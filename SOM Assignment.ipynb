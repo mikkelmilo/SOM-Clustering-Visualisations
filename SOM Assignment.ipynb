{
 "cells": [
  {
   "cell_type": "code",
   "execution_count": 6,
   "metadata": {},
   "outputs": [
    {
     "name": "stdout",
     "output_type": "stream",
     "text": [
      "SOM Assignment\n"
     ]
    }
   ],
   "source": [
    "print(\"SOM Assignment\")"
   ]
  },
  {
   "cell_type": "code",
   "execution_count": 6,
   "metadata": {},
   "outputs": [],
   "source": [
    "import numpy as np\n",
    "from minisom import MiniSom "
   ]
  },
  {
   "cell_type": "code",
   "execution_count": 10,
   "metadata": {},
   "outputs": [],
   "source": [
    "# DATASETS\n",
    "clusters10_data = np.genfromtxt('10clusters.vec', skip_header=4, usecols=list(range(10)))\n",
    "chainlink_data = np.genfromtxt('chainlink.vec', skip_header=4, usecols=list(range(3)))"
   ]
  },
  {
   "cell_type": "code",
   "execution_count": 11,
   "metadata": {},
   "outputs": [],
   "source": [
    "# Clusters10\n",
    "clusters10_som_small = MiniSom(20, 25, 10, sigma=0.3, learning_rate=0.5)\n",
    "clusters10_som_small.train_random(clusters10_data, 100)\n",
    "clusters10_som_big = MiniSom(100, 60, 10, sigma=0.3, learning_rate=0.5)\n",
    "clusters10_som_big.train_random(clusters10_data, 100)"
   ]
  },
  {
   "cell_type": "code",
   "execution_count": 14,
   "metadata": {},
   "outputs": [],
   "source": [
    "# Chainlink\n",
    "chainlink_som_small = MiniSom(20, 25, 3, sigma=0.3, learning_rate=0.5)\n",
    "chainlink_som_small.train_random(chainlink_data, 100)\n",
    "chainlink_som_big = MiniSom(100, 60, 3, sigma=0.3, learning_rate=0.5)\n",
    "chainlink_som_big.train_random(chainlink_data, 100)"
   ]
  }
 ],
 "metadata": {
  "kernelspec": {
   "display_name": "Python 3",
   "language": "python",
   "name": "python3"
  },
  "language_info": {
   "codemirror_mode": {
    "name": "ipython",
    "version": 3
   },
   "file_extension": ".py",
   "mimetype": "text/x-python",
   "name": "python",
   "nbconvert_exporter": "python",
   "pygments_lexer": "ipython3",
   "version": "3.7.4"
  },
  "varInspector": {
   "cols": {
    "lenName": 16,
    "lenType": 16,
    "lenVar": 40
   },
   "kernels_config": {
    "python": {
     "delete_cmd_postfix": "",
     "delete_cmd_prefix": "del ",
     "library": "var_list.py",
     "varRefreshCmd": "print(var_dic_list())"
    },
    "r": {
     "delete_cmd_postfix": ") ",
     "delete_cmd_prefix": "rm(",
     "library": "var_list.r",
     "varRefreshCmd": "cat(var_dic_list()) "
    }
   },
   "types_to_exclude": [
    "module",
    "function",
    "builtin_function_or_method",
    "instance",
    "_Feature"
   ],
   "window_display": false
  }
 },
 "nbformat": 4,
 "nbformat_minor": 2
}
