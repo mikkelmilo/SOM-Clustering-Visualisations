{
 "cells": [
  {
   "cell_type": "code",
   "execution_count": 1,
   "metadata": {},
   "outputs": [],
   "source": [
    "import numpy as np\n",
    "from minisom import MiniSom \n",
    "from datetime import datetime\n",
    "from itertools import chain\n",
    "import matplotlib.pyplot as plt\n",
    "from collections import defaultdict"
   ]
  },
  {
   "cell_type": "code",
   "execution_count": 2,
   "metadata": {},
   "outputs": [],
   "source": [
    "# DATASETS\n",
    "clusters10_data = np.genfromtxt('10clusters.vec', skip_header=4, usecols=list(range(10)))\n",
    "chainlink_data = np.genfromtxt('chainlink.vec', skip_header=4, usecols=list(range(3)))"
   ]
  },
  {
   "cell_type": "code",
   "execution_count": 9,
   "metadata": {},
   "outputs": [],
   "source": [
    "# Clusters10\n",
    "clusters10_som_small = MiniSom(20, 25, 10, sigma=10, learning_rate=0.5, random_seed=10)\n",
    "clusters10_som_small.train_random(clusters10_data, 10000)\n",
    "clusters10_som_big = MiniSom(100, 60, 10, sigma=30, learning_rate=0.5, random_seed=10)\n",
    "clusters10_som_big.train_random(clusters10_data, 10000)"
   ]
  },
  {
   "cell_type": "code",
   "execution_count": 3,
   "metadata": {},
   "outputs": [],
   "source": [
    "# Chainlink\n",
    "chainlink_som_small = MiniSom(20, 25, 3, sigma=10, learning_rate=0.1, random_seed=10, neighborhood_function='triangle')\n",
    "chainlink_som_small.train_random(chainlink_data, 10000)\n",
    "#chainlink_som_big = MiniSom(100, 60, 3, sigma=0.3, learning_rate=0.5)\n",
    "#chainlink_som_big.train_random(chainlink_data, 10000)"
   ]
  },
  {
   "cell_type": "code",
   "execution_count": 6,
   "metadata": {},
   "outputs": [],
   "source": [
    "class SOMLibExporter:    \n",
    "    \"\"\"\n",
    "    Class for creating SOMLib files out of a SOM created by MiniSOM\n",
    "    \"\"\"\n",
    "    \n",
    "    def __init__(self, dataset, som, dataset_name):\n",
    "        \"\"\"\n",
    "        Init the SOMLibExporter\n",
    "        \n",
    "        Arguments:\n",
    "        dataset -- data the SOM is trained on\n",
    "        som -- SOM we want to export\n",
    "        dataset_name -- name of the data\n",
    "        \"\"\"\n",
    "        self._data = dataset\n",
    "        self._som = som\n",
    "        self._dataset_name = dataset_name\n",
    "        self._weights = som.get_weights()\n",
    "        self._xdmin = self._weights.shape[0]\n",
    "        self._ydmin = self._weights.shape[1]\n",
    "        self._distances = som.distance_map()\n",
    "        self._qe = som.quantization_error(dataset)\n",
    "        self._quantization = som.quantization(dataset)\n",
    "        \n",
    "    def _get_header(self):\n",
    "        \"\"\"\n",
    "        returns dict with header information of a SOMLib file\n",
    "        \"\"\"\n",
    "        return {'$TYPE': 'som', '$GRID_LAYOUT': 'rectangular', '$GRID_TOPOLOGY': 'planar', \n",
    "                '$XDIM': self._xdmin, '$YDIM': self._ydmin, '$ZDMIN': 1}\n",
    "        \n",
    "\n",
    "    def write_map_file(self, filename, sigma=0.3, learning_rate=0.5, iterations=100, seed=1):   \n",
    "        \"\"\"\n",
    "        Write SOMLib map description file\n",
    "        \n",
    "        Arguments:\n",
    "        filename -- name of the output file\n",
    "        sigma -- used sigma for training the SOM\n",
    "        learning_rate -- used learning rate for training the SOM\n",
    "        iterations -- used iterations for training the SOM\n",
    "        seed -- used seed for training the SOM\n",
    "        \"\"\"\n",
    "        d = self._get_header()\n",
    "        d['$VEC_DIM'] = self._data.shape[1]\n",
    "        d['$STORAGE_DATE'] = datetime.now().strftime(\"%d/%m/%Y %H:%M %p\")\n",
    "        d['$LEARNRATE_TYPE'] = 'exponential'\n",
    "        d['$LEARNRATE_INIT'] = learning_rate\n",
    "        d['$NEIGHBORHOOD_TYPE'] = 'exponential'\n",
    "        d['$NEIGHBORHOOD_INIT'] = sigma\n",
    "        d['$RAND_INIT'] = seed\n",
    "        d['$ITERATIONS_TOTAL'] = iterations\n",
    "        d['$QUANTERROR_MAP'] = self._qe\n",
    "                \n",
    "        with open(filename + \".map\",\"w\") as f:\n",
    "            for key, value in d.items():\n",
    "                f.write(\"{} {} \\n\".format(key, value))\n",
    "    \n",
    "    def write_weight_file(self, filename):\n",
    "        \"\"\"\n",
    "        Write SOMLib weight vector file\n",
    "        \n",
    "        Arguments:\n",
    "        filename -- name of the output file\n",
    "        \"\"\"\n",
    "        d = self._get_header()\n",
    "        d['$VEC_DIM'] = self._data.shape[1]\n",
    "        \n",
    "        with open(filename + \".wgt\",\"w\") as f:\n",
    "            for key, value in d.items():\n",
    "                f.write(\"{} {} \\n\".format(key, value))\n",
    "                \n",
    "            for i in range(self._weights.shape[0]):\n",
    "                for j in range(self._weights.shape[1]):\n",
    "                    l = list(self._weights[i][j])\n",
    "                    l.append(\"SOM_MAP_{}_({}/{})\".format(self._dataset_name, i, j))                \n",
    "                    f.write(' '.join(map(str, l)) + \"\\n\")\n",
    "    \n",
    "    def write_unit_file(self, filename):\n",
    "        \"\"\"\n",
    "        Write SOMLib unit description file\n",
    "        \n",
    "        Arguments\n",
    "        filename -- name of the output file\n",
    "        \"\"\"\n",
    "        d = {\"$TYPE\": \"rect\", \"$FILE_FORMAT_VERSION\": 1.2, '$XDIM': self._xdmin, '$YDIM': self._ydmin, '$ZDMIN': 1}    \n",
    "        winner_dict = self._map_data_to_winner()\n",
    "        \n",
    "        with open(filename + \".unit\",\"w\") as f:\n",
    "            for key, value in d.items():\n",
    "                f.write(\"{} {}\\n\".format(key, value))\n",
    "            \n",
    "            # map is traversed horizontally first\n",
    "            for i in range(self._weights.shape[1]):\n",
    "                for j in range(self._weights.shape[0]):\n",
    "                    f.write(\"$POS_X {}\\n\".format(j))\n",
    "                    f.write(\"$POS_Y {}\\n\".format(i))\n",
    "                    f.write(\"$POS_Z 0\\n\")\n",
    "                    f.write(\"$UNIT_ID {}_({}/{})\\n\".format(self._dataset_name, j, i))\n",
    "\n",
    "                    if (j,i) in winner_dict:\n",
    "                        qes = [self._qe_unit(idx - 1) for idx in winner_dict[(j,i)]] #idx - 1 since in SOMLib the idx are counted from 1\n",
    "                        f.write(\"$QUANTERROR_UNIT {}\\n\".format(np.sum(qes)))\n",
    "                        f.write(\"$QUANTERROR_UNIT_AVG {}\\n\".format(np.mean(qes)))\n",
    "                        f.write(\"$NR_VEC_MAPPED {}\\n\".format(len(qes)))\n",
    "                        f.write(\"$MAPPED_VECS\\n\")\n",
    "                        for idx in winner_dict[(j,i)]:\n",
    "                            f.write(str(idx) + \"\\n\")\n",
    "                        f.write(\"$MAPPED_VECS_DIST \" + ' '.join(map(str, qes)) + \"\\n\")\n",
    "\n",
    "                    else:\n",
    "                        f.write(\"$QUANTERROR_UNIT 0.0\\n\")\n",
    "                        f.write(\"$QUANTERROR_UNIT_AVG 0.0\\n\")\n",
    "                        f.write(\"$NR_VEC_MAPPED 0\\n\")\n",
    "\n",
    "    def _qe_unit(self,idx):\n",
    "        \"\"\"\n",
    "        returns qe for a single input vector\n",
    "        \n",
    "        Arguments:\n",
    "        idx -- index of the input vector\n",
    "        \"\"\"\n",
    "        return np.mean(np.power(self._quantization[idx] - self._data[idx],2))\n",
    "           \n",
    "    def _map_data_to_winner(self):\n",
    "        \"\"\"\n",
    "        returns dict with idx of input vectors mapped to winner units\n",
    "        \"\"\"\n",
    "        d = defaultdict(list)\n",
    "        for i, vec in enumerate(self._data):\n",
    "            d[self._som.winner(vec)].append(i + 1)\n",
    "            \n",
    "        return d\n",
    "        "
   ]
  },
  {
   "cell_type": "code",
   "execution_count": 13,
   "metadata": {},
   "outputs": [],
   "source": [
    "desc = SOMLibExporter(chainlink_data, chainlink_som_small, 'chainlink')\n",
    "name = \"small_chainlink\"\n",
    "desc.write_map_file(name, sigma=10, learning_rate=0.1, iterations=10000, seed=10)\n",
    "desc.write_weight_file(name)\n",
    "desc.write_unit_file(name)"
   ]
  },
  {
   "cell_type": "code",
   "execution_count": 24,
   "metadata": {},
   "outputs": [
    {
     "data": {
      "text/plain": [
       "array([0.07426911, 0.1458568 , 0.20181085, 0.27644098, 0.36663124,\n",
       "       0.46186552, 0.5445832 , 0.59539283, 0.60147707, 0.56273153,\n",
       "       0.49107238, 0.4040299 , 0.31794336, 0.24474132, 0.19202753,\n",
       "       0.16317676, 0.15754348, 0.17167625, 0.20003784, 0.2376478 ,\n",
       "       0.28068722, 0.32292051, 0.35639285, 0.37449225, 0.16400356])"
      ]
     },
     "execution_count": 24,
     "metadata": {},
     "output_type": "execute_result"
    }
   ],
   "source": [
    "clusters10_som_small.distance_map()[0]"
   ]
  },
  {
   "cell_type": "code",
   "execution_count": 19,
   "metadata": {},
   "outputs": [],
   "source": [
    "desc = SOMLibExporter(clusters10_data, clusters10_som_small, '10clusters')\n",
    "name = \"small_10clusters\"\n",
    "desc.write_map_file(name, sigma=10, learning_rate=0.5, iterations=10000, seed=10)\n",
    "desc.write_weight_file(name)\n",
    "desc.write_unit_file(name)"
   ]
  },
  {
   "cell_type": "code",
   "execution_count": 14,
   "metadata": {},
   "outputs": [
    {
     "data": {
      "text/plain": [
       "<matplotlib.collections.PolyCollection at 0x27609e18d68>"
      ]
     },
     "execution_count": 14,
     "metadata": {},
     "output_type": "execute_result"
    },
    {
     "data": {
      "image/png": "[encoded data removed]",
      "text/plain": [
       "<Figure size 432x288 with 1 Axes>"
      ]
     },
     "metadata": {
      "needs_background": "light"
     },
     "output_type": "display_data"
    }
   ],
   "source": [
    "plt.pcolor(clusters10_som_small.distance_map().T, cmap='bone_r') "
   ]
  },
  {
   "cell_type": "code",
   "execution_count": 16,
   "metadata": {},
   "outputs": [
    {
     "data": {
      "image/png": "[encoded data removed]",
      "text/plain": [
       "<Figure size 432x288 with 2 Axes>"
      ]
     },
     "metadata": {
      "needs_background": "light"
     },
     "output_type": "display_data"
    }
   ],
   "source": [
    "frequencies = clusters10_som_small.activation_response(clusters10_data)\n",
    "plt.pcolor(frequencies.T, cmap='Blues') \n",
    "plt.colorbar()\n",
    "plt.show()"
   ]
  },
  {
   "cell_type": "code",
   "execution_count": 20,
   "metadata": {},
   "outputs": [],
   "source": [
    "import pickle\n",
    "with open(name + \".p\", 'wb') as outfile:\n",
    "    pickle.dump(clusters10_som_small, outfile)"
   ]
  }
 ],
 "metadata": {
  "kernelspec": {
   "display_name": "Python 3",
   "language": "python",
   "name": "python3"
  },
  "language_info": {
   "codemirror_mode": {
    "name": "ipython",
    "version": 3
   },
   "file_extension": ".py",
   "mimetype": "text/x-python",
   "name": "python",
   "nbconvert_exporter": "python",
   "pygments_lexer": "ipython3",
   "version": "3.6.9"
  },
  "varInspector": {
   "cols": {
    "lenName": 16,
    "lenType": 16,
    "lenVar": 40
   },
   "kernels_config": {
    "python": {
     "delete_cmd_postfix": "",
     "delete_cmd_prefix": "del ",
     "library": "var_list.py",
     "varRefreshCmd": "print(var_dic_list())"
    },
    "r": {
     "delete_cmd_postfix": ") ",
     "delete_cmd_prefix": "rm(",
     "library": "var_list.r",
     "varRefreshCmd": "cat(var_dic_list()) "
    }
   },
   "types_to_exclude": [
    "module",
    "function",
    "builtin_function_or_method",
    "instance",
    "_Feature"
   ],
   "window_display": false
  }
 },
 "nbformat": 4,
 "nbformat_minor": 2
}
