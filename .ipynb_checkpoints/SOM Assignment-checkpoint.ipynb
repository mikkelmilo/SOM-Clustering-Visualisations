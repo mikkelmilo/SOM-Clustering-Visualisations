{
 "cells": [
  {
   "cell_type": "code",
   "execution_count": 6,
   "metadata": {},
   "outputs": [
    {
     "name": "stdout",
     "output_type": "stream",
     "text": [
      "SOM Assignment\n"
     ]
    }
   ],
   "source": [
    "print(\"SOM Assignment\")"
   ]
  },
  {
   "cell_type": "code",
   "execution_count": 1,
   "metadata": {},
   "outputs": [],
   "source": [
    "import numpy as np"
   ]
  },
  {
   "cell_type": "code",
   "execution_count": 3,
   "metadata": {},
   "outputs": [],
   "source": [
    "# DATASETS\n",
    "clusters10 = np.genfromtxt('10clusters.vec', skip_header=4, usecols=list(range(10)))\n",
    "chainlink = np.genfromtxt('chainlink.vec', skip_header=4, usecols=list(range(3)))"
   ]
  },
  {
   "cell_type": "code",
   "execution_count": 4,
   "metadata": {},
   "outputs": [
    {
     "data": {
      "text/plain": [
       "array([[ 2.2854  ,  4.7669  ,  7.3488  , ...,  6.3719  ,  2.2839  ,\n",
       "         9.9891  ],\n",
       "       [ 2.2723  ,  4.7609  ,  7.2971  , ...,  6.1547  ,  2.2715  ,\n",
       "         9.7819  ],\n",
       "       [ 2.2403  ,  4.555   ,  7.3068  , ...,  6.3228  ,  2.36    ,\n",
       "         9.7675  ],\n",
       "       ...,\n",
       "       [ 0.72434 ,  9.4485  ,  4.5276  , ...,  3.2838  , -0.093214,\n",
       "         8.7187  ],\n",
       "       [-0.948   ,  7.5104  ,  7.3578  , ...,  3.6806  , -0.15191 ,\n",
       "         8.4169  ],\n",
       "       [ 0.38356 ,  6.2888  ,  5.7851  , ...,  4.1714  ,  1.4438  ,\n",
       "         9.7756  ]])"
      ]
     },
     "execution_count": 4,
     "metadata": {},
     "output_type": "execute_result"
    }
   ],
   "source": [
    "clusters10"
   ]
  },
  {
   "cell_type": "code",
   "execution_count": 5,
   "metadata": {},
   "outputs": [
    {
     "data": {
      "text/plain": [
       "array([[-0.27412  ,  1.9674   , -0.035685 ],\n",
       "       [-0.69395  ,  0.17085  , -0.015858 ],\n",
       "       [ 0.57784  ,  0.23614  , -0.044098 ],\n",
       "       ...,\n",
       "       [ 0.038542 , -0.40502  ,  0.97134  ],\n",
       "       [ 0.0035068, -0.95265  , -0.097193 ],\n",
       "       [ 0.033648 ,  0.14951  , -0.96676  ]])"
      ]
     },
     "execution_count": 5,
     "metadata": {},
     "output_type": "execute_result"
    }
   ],
   "source": [
    "chainlink"
   ]
  }
 ],
 "metadata": {
  "kernelspec": {
   "display_name": "Python 3",
   "language": "python",
   "name": "python3"
  },
  "language_info": {
   "codemirror_mode": {
    "name": "ipython",
    "version": 3
   },
   "file_extension": ".py",
   "mimetype": "text/x-python",
   "name": "python",
   "nbconvert_exporter": "python",
   "pygments_lexer": "ipython3",
   "version": "3.6.9"
  },
  "varInspector": {
   "cols": {
    "lenName": 16,
    "lenType": 16,
    "lenVar": 40
   },
   "kernels_config": {
    "python": {
     "delete_cmd_postfix": "",
     "delete_cmd_prefix": "del ",
     "library": "var_list.py",
     "varRefreshCmd": "print(var_dic_list())"
    },
    "r": {
     "delete_cmd_postfix": ") ",
     "delete_cmd_prefix": "rm(",
     "library": "var_list.r",
     "varRefreshCmd": "cat(var_dic_list()) "
    }
   },
   "types_to_exclude": [
    "module",
    "function",
    "builtin_function_or_method",
    "instance",
    "_Feature"
   ],
   "window_display": false
  }
 },
 "nbformat": 4,
 "nbformat_minor": 2
}
