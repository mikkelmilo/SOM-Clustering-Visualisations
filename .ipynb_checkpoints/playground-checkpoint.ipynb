{
 "cells": [
  {
   "cell_type": "code",
   "execution_count": 1,
   "metadata": {},
   "outputs": [],
   "source": [
    "import numpy as np\n",
    "from minisom import MiniSom \n",
    "from datetime import datetime\n",
    "from itertools import chain\n",
    "import matplotlib.pyplot as plt\n",
    "from collections import defaultdict"
   ]
  },
  {
   "cell_type": "code",
   "execution_count": 2,
   "metadata": {},
   "outputs": [],
   "source": [
    "# DATASETS\n",
    "clusters10_data = np.genfromtxt('10clusters.vec', skip_header=4, usecols=list(range(10)))\n",
    "chainlink_data = np.genfromtxt('chainlink.vec', skip_header=4, usecols=list(range(3)))"
   ]
  },
  {
   "cell_type": "code",
   "execution_count": 3,
   "metadata": {},
   "outputs": [],
   "source": [
    "# Clusters10\n",
    "clusters10_som_small = MiniSom(20, 25, 10, sigma=0.3, learning_rate=0.5)\n",
    "clusters10_som_small.train_random(clusters10_data, 100)\n",
    "clusters10_som_big = MiniSom(100, 60, 10, sigma=0.3, learning_rate=0.5)\n",
    "clusters10_som_big.train_random(clusters10_data, 100)"
   ]
  },
  {
   "cell_type": "code",
   "execution_count": 3,
   "metadata": {},
   "outputs": [],
   "source": [
    "# Chainlink\n",
    "chainlink_som_small = MiniSom(20, 25, 3, sigma=10, learning_rate=0.5)\n",
    "chainlink_som_small.train_random(chainlink_data, 10000)\n",
    "chainlink_som_big = MiniSom(100, 60, 3, sigma=0.3, learning_rate=0.5)\n",
    "chainlink_som_big.train_random(chainlink_data, 10000)"
   ]
  },
  {
   "cell_type": "code",
   "execution_count": 31,
   "metadata": {},
   "outputs": [
    {
     "data": {
      "text/plain": [
       "array([[-0.18054337,  1.42930274,  0.04388023],\n",
       "       [-0.30473282,  0.33415633, -0.10903533],\n",
       "       [ 0.21419984,  0.38784149,  0.27410976],\n",
       "       ...,\n",
       "       [ 0.03107066, -0.47210335,  0.56089671],\n",
       "       [ 0.00536775, -0.45294586, -0.03484727],\n",
       "       [-0.09971906,  0.00985857, -0.5369326 ]])"
      ]
     },
     "execution_count": 31,
     "metadata": {},
     "output_type": "execute_result"
    }
   ],
   "source": [
    "chainlink_som_small.quantization(chainlink_data)"
   ]
  },
  {
   "cell_type": "code",
   "execution_count": 57,
   "metadata": {},
   "outputs": [],
   "source": [
    "class SOMFiles:    \n",
    "    \"\"\"\n",
    "    Class for creating SOMLib files out of a MiniSom\n",
    "    \"\"\"\n",
    "    \n",
    "    def __init__(self, data, som, dataset_name):\n",
    "        self._data = data\n",
    "        self._som = som\n",
    "        self._dataset_name = dataset_name\n",
    "        self._weights = som.get_weights()\n",
    "        self._xdmin = self._weights.shape[0]\n",
    "        self._ydmin = self._weights.shape[1]\n",
    "        self._distances = som.distance_map()\n",
    "        self._qe = som.quantization_error(data)\n",
    "        self._quantization = som.quantization(data)\n",
    "        \n",
    "    def _get_header(self):\n",
    "        \"\"\"\n",
    "        returns dict with header information of a SOMLib file\n",
    "        \"\"\"\n",
    "        return {'$TYPE': 'som', '$GRID_LAYOUT': 'rectangular', '$GRID_TOPOLOGY': 'planar', \n",
    "                '$XDIM': self._xdmin, '$YDIM': self._ydmin}\n",
    "        \n",
    "\n",
    "    def write_map_file(self, filename, sigma=0.3, learning_rate=0.5, iterations=100, seed=1):   \n",
    "        \"\"\"\n",
    "        Write SOMLib map description file\n",
    "        \"\"\"\n",
    "        d = self._get_header()\n",
    "        d['$VEC_DIM'] = self._data.shape[1]\n",
    "        d['$STORAGE_DATE'] = datetime.now().strftime(\"%d/%m/%Y %H:%M %p\")\n",
    "        d['$LEARNRATE_TYPE'] = 'exponential'\n",
    "        d['$LEARNRATE_INIT'] = learning_rate\n",
    "        d['$NEIGHBORHOOD_TYPE'] = 'exponential'\n",
    "        d['$NEIGHBORHOOD_INIT'] = sigma\n",
    "        d['$RAND_INIT'] = seed\n",
    "        d['$ITERATIONS_TOTAL'] = iterations\n",
    "        d['$QUANTERROR_MAP'] = self._qe\n",
    "                \n",
    "        with open(filename + \".map\",\"w\") as f:\n",
    "            for key, value in d.items():\n",
    "                f.write(\"{} {} \\n\".format(key, value))\n",
    "    \n",
    "    def write_weight_file(self, filename):\n",
    "        \"\"\"\n",
    "        Write SOMLib weight vector file\n",
    "        \"\"\"\n",
    "        d = self._get_header()\n",
    "        d['$VEC_DIM'] = self._data.shape[1]\n",
    "        \n",
    "        with open(filename + \".wgt\",\"w\") as f:\n",
    "            for key, value in d.items():\n",
    "                f.write(\"{} {} \\n\".format(key, value))\n",
    "                \n",
    "            for i in range(self._weights.shape[0]):\n",
    "                for j in range(self._weights.shape[1]):\n",
    "                    l = list(self._weights[i][j])\n",
    "                    l.append(\"SOM_MAP_{}_({}/{})\".format(self._dataset_name, i, j))                \n",
    "                    f.write(' '.join(map(str, l)) + \"\\n\")\n",
    "    \n",
    "    def write_unit_file(self, filename):\n",
    "        \"\"\"\n",
    "        Write SOMLib unit description file\n",
    "        \"\"\"\n",
    "        d = self._get_header()      \n",
    "        winner_dict = self._map_data_to_winner()\n",
    "        \n",
    "        with open(filename + \".unit\",\"w\") as f:\n",
    "            for key, value in d.items():\n",
    "                f.write(\"{} {} \\n\".format(key, value))\n",
    "                for i in range(self._weights.shape[0]):\n",
    "                    for j in range(self._weights.shape[1]):\n",
    "                        f.write(\"$XDMIN {}\\n\".format(i))\n",
    "                        f.write(\"$YDMIN {}\\n\".format(j))\n",
    "                        f.write(\"$ZDMIN 1\\n\")\n",
    "                        f.write(\"$UNIT_ID {}_({}/{})\\n\".format(self._dataset_name, i, j))\n",
    "                        \n",
    "                        if (i,j) in winner_dict:\n",
    "                            qes = [self._qe_unit(idx - 1) for idx in winner_dict[(i,j)]]\n",
    "                            f.write(\"$QUANTERROR_UNIT {}\\n\".format(np.sum(qes)))\n",
    "                            f.write(\"$QUANTERROR_UNIT_AVG {}\\n\".format(np.mean(qes)))\n",
    "                            f.write(\"$NR_VEC_MAPPED {}\\n\".format(len(qes)))\n",
    "                            f.write(\"$MAPPED_VECS\\n\")\n",
    "                            for idx in winner_dict[(i,j)]:\n",
    "                                f.write(str(idx) + \"\\n\")\n",
    "                            f.write(\"$MAPPED_VECS_DIST \" + ' '.join(map(str, qes)) + \"\\n\")\n",
    "                            \n",
    "                        else:\n",
    "                            f.write(\"$QUANTERROR_UNIT 0.0\\n\")\n",
    "                            f.write(\"$QUANTERROR_UNIT_AVG 0.0\\n\")\n",
    "                            f.write(\"$NR_VEC_MAPPED 0\\n\")\n",
    "\n",
    "    def _qe_unit(self,idx):\n",
    "        \"\"\"\n",
    "        returns qe for a single input vector\n",
    "        \"\"\"\n",
    "        return np.mean(np.power(self._quantization[idx] - self._data[idx],2))\n",
    "           \n",
    "    def _map_data_to_winner(self):\n",
    "        \"\"\"\n",
    "        returns dict with idx of input vectors mapped to winner units\n",
    "        \"\"\"\n",
    "        d = defaultdict(list)\n",
    "        for i, vec in enumerate(self._data):\n",
    "            d[self._som.winner(vec)].append(i + 1)\n",
    "            \n",
    "        return d\n",
    "        "
   ]
  },
  {
   "cell_type": "code",
   "execution_count": 56,
   "metadata": {},
   "outputs": [],
   "source": [
    "desc = SOMFiles(chainlink_data, chainlink_som_small, 'chainlink')\n",
    "desc.write_map_file(\"map_test\")\n",
    "desc.write_weight_file(\"weight_test\")\n",
    "desc.write_unit_file(\"unit_test\")"
   ]
  }
 ],
 "metadata": {
  "kernelspec": {
   "display_name": "Python 3",
   "language": "python",
   "name": "python3"
  },
  "language_info": {
   "codemirror_mode": {
    "name": "ipython",
    "version": 3
   },
   "file_extension": ".py",
   "mimetype": "text/x-python",
   "name": "python",
   "nbconvert_exporter": "python",
   "pygments_lexer": "ipython3",
   "version": "3.6.9"
  },
  "varInspector": {
   "cols": {
    "lenName": 16,
    "lenType": 16,
    "lenVar": 40
   },
   "kernels_config": {
    "python": {
     "delete_cmd_postfix": "",
     "delete_cmd_prefix": "del ",
     "library": "var_list.py",
     "varRefreshCmd": "print(var_dic_list())"
    },
    "r": {
     "delete_cmd_postfix": ") ",
     "delete_cmd_prefix": "rm(",
     "library": "var_list.r",
     "varRefreshCmd": "cat(var_dic_list()) "
    }
   },
   "types_to_exclude": [
    "module",
    "function",
    "builtin_function_or_method",
    "instance",
    "_Feature"
   ],
   "window_display": false
  }
 },
 "nbformat": 4,
 "nbformat_minor": 2
}
