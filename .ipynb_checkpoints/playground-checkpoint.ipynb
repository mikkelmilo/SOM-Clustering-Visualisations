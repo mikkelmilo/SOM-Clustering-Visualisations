{
 "cells": [
  {
   "cell_type": "code",
   "execution_count": 1,
   "metadata": {},
   "outputs": [],
   "source": [
    "import numpy as np"
   ]
  },
  {
   "cell_type": "code",
   "execution_count": 28,
   "metadata": {},
   "outputs": [],
   "source": [
    "def read_vec(filename):\n",
    "    with open(filename, 'r') as f:\n",
    "        lines = [x.split() for x in f.readlines()]\n",
    "        xdim = int(lines[1][1])\n",
    "        ydim = int(lines[3][1])\n",
    "        result = np.zeros((xdim, ydim), dtype='float')\n",
    "        for i,l in enumerate(lines[4:]):\n",
    "            result[i] = [float(n) for n in l[:len(l)-1]]\n",
    "    return result"
   ]
  },
  {
   "cell_type": "code",
   "execution_count": 32,
   "metadata": {},
   "outputs": [],
   "source": [
    "cluster = read_vec('10clusters.vec')"
   ]
  },
  {
   "cell_type": "code",
   "execution_count": 33,
   "metadata": {},
   "outputs": [
    {
     "data": {
      "text/plain": [
       "array([2.2854, 4.7669, 7.3488, 3.9504, 3.6407, 2.8241, 8.5849, 6.3719,\n",
       "       2.2839, 9.9891])"
      ]
     },
     "execution_count": 33,
     "metadata": {},
     "output_type": "execute_result"
    }
   ],
   "source": [
    "cluster[0]"
   ]
  },
  {
   "cell_type": "code",
   "execution_count": 36,
   "metadata": {},
   "outputs": [
    {
     "data": {
      "text/plain": [
       "array([[ 2.2854  ,  4.7669  ,  7.3488  , ...,  6.3719  ,  2.2839  ,\n",
       "         9.9891  ],\n",
       "       [ 2.2723  ,  4.7609  ,  7.2971  , ...,  6.1547  ,  2.2715  ,\n",
       "         9.7819  ],\n",
       "       [ 2.2403  ,  4.555   ,  7.3068  , ...,  6.3228  ,  2.36    ,\n",
       "         9.7675  ],\n",
       "       ...,\n",
       "       [ 0.72434 ,  9.4485  ,  4.5276  , ...,  3.2838  , -0.093214,\n",
       "         8.7187  ],\n",
       "       [-0.948   ,  7.5104  ,  7.3578  , ...,  3.6806  , -0.15191 ,\n",
       "         8.4169  ],\n",
       "       [ 0.38356 ,  6.2888  ,  5.7851  , ...,  4.1714  ,  1.4438  ,\n",
       "         9.7756  ]])"
      ]
     },
     "execution_count": 36,
     "metadata": {},
     "output_type": "execute_result"
    }
   ],
   "source": [
    "np.genfromtxt('10clusters.vec', skip_header=4, usecols=list(range(10)))"
   ]
  }
 ],
 "metadata": {
  "kernelspec": {
   "display_name": "Python 3",
   "language": "python",
   "name": "python3"
  },
  "language_info": {
   "codemirror_mode": {
    "name": "ipython",
    "version": 3
   },
   "file_extension": ".py",
   "mimetype": "text/x-python",
   "name": "python",
   "nbconvert_exporter": "python",
   "pygments_lexer": "ipython3",
   "version": "3.6.9"
  },
  "varInspector": {
   "cols": {
    "lenName": 16,
    "lenType": 16,
    "lenVar": 40
   },
   "kernels_config": {
    "python": {
     "delete_cmd_postfix": "",
     "delete_cmd_prefix": "del ",
     "library": "var_list.py",
     "varRefreshCmd": "print(var_dic_list())"
    },
    "r": {
     "delete_cmd_postfix": ") ",
     "delete_cmd_prefix": "rm(",
     "library": "var_list.r",
     "varRefreshCmd": "cat(var_dic_list()) "
    }
   },
   "types_to_exclude": [
    "module",
    "function",
    "builtin_function_or_method",
    "instance",
    "_Feature"
   ],
   "window_display": false
  }
 },
 "nbformat": 4,
 "nbformat_minor": 2
}
