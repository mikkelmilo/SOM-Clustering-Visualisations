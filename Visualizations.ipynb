{
 "cells": [
  {
   "cell_type": "markdown",
   "metadata": {},
   "source": [
    "   # 10 CLUSTERS DATA SET"
   ]
  },
  {
   "cell_type": "markdown",
   "metadata": {},
   "source": [
    " ## 1.HIERARCHICAL CLUSTERING "
   ]
  },
  {
   "cell_type": "markdown",
   "metadata": {},
   "source": [
    "SMALL SOMS "
   ]
  },
  {
   "cell_type": "markdown",
   "metadata": {},
   "source": [
    "CASE 1: SINGLE LINKAGE & SINGLE LINKAGE - EXTREME VALUES \n",
    "\n",
    "<img src=\"plots/HC_single-20x25.png\" style=width:460px;height:460px; align=\"left\">\n",
    "<img src=\"plots/HC_single-20x25_e.png\" style=width:460px;height:460px; align=\"right\">"
   ]
  },
  {
   "cell_type": "markdown",
   "metadata": {},
   "source": [
    "CASE 2: COMPLETE LINKAGE & COMPLETE LINKAGE - EXTREME VALUES \n",
    "\n",
    "<img src=\"plots/HC_complete-20x25.png\" style=width:460px;height:460px; align=\"left\">\n",
    "<img src=\"plots/HC_complete-20x25_e.png\" style=width:460px;height:460px; align=\"right\">"
   ]
  },
  {
   "cell_type": "markdown",
   "metadata": {},
   "source": [
    "CASE 3: WARD LINKAGE & WARD LINKAGE - EXTREME VALUES \n",
    "\n",
    "<img src=\"plots/HC_ward-20x25.png\" style=width:460px;height:460px; align=\"left\">\n",
    "<img src=\"plots/HC_ward-20x25_e.png\" style=width:460px;height:460px; align=\"right\">"
   ]
  },
  {
   "cell_type": "markdown",
   "metadata": {},
   "source": [
    "BIG SOMS"
   ]
  },
  {
   "cell_type": "markdown",
   "metadata": {},
   "source": [
    "CASE 1: SINGLE LINKAGE & SINGLE LINKAGE - EXTREME VALUES \n",
    "\n",
    "<a href=\"plots/HC_single-100x60.png\">\n",
    "<img border=\"0\"  src=\"plots/HC_single-100x60.png\" width=\"450\" height=\"450\" align=\"left\">\n",
    "</a>\n",
    "<a href=\"plots/HC_single-100x60_e.png\">\n",
    "<img border=\"0\"  src=\"plots/HC_single-100x60_e.png\" width=\"450\" height=\"450\" align=\"right\">\n",
    "</a>"
   ]
  },
  {
   "cell_type": "markdown",
   "metadata": {},
   "source": [
    "CASE 2: COMPLETE LINKAGE & COMPLETE LINKAGE - EXTREME VALUES \n",
    "\n",
    "<a href=\"plots/HC_complete-100x60.png\">\n",
    "<img border=\"0\"  src=\"plots/HC_complete-100x60.png\" width=\"450\" height=\"450\" align=\"left\">\n",
    "</a>\n",
    "<a href=\"plots/HC_complete-100x60_e.png\">\n",
    "<img border=\"0\"  src=\"plots/HC_complete-100x60_e.png\" width=\"450\" height=\"450\" align=\"right\">\n",
    "</a>"
   ]
  },
  {
   "cell_type": "markdown",
   "metadata": {},
   "source": [
    "CASE 3: WARD LINKAGE & WARD LINKAGE - EXTREME VALUES \n",
    "\n",
    "<a href=\"plots/HC_ward-100x60.png\">\n",
    "<img border=\"0\"  src=\"plots/HC_ward-100x60.png\" width=\"450\" height=\"450\" align=\"left\">\n",
    "</a>\n",
    "<a href=\"plots/HC_ward-100x60_e.png\">\n",
    "<img border=\"0\"  src=\"plots/HC_ward-100x60_e.png\" width=\"450\" height=\"450\" align=\"right\">\n",
    "</a>"
   ]
  },
  {
   "cell_type": "markdown",
   "metadata": {},
   "source": [
    "## 2. KMEANS CLUSTERING"
   ]
  },
  {
   "cell_type": "markdown",
   "metadata": {},
   "source": [
    "SMALL SOM"
   ]
  },
  {
   "cell_type": "markdown",
   "metadata": {},
   "source": [
    " kmeans clustering & extreme values kmeans clustering\n",
    "\n",
    "<img src=\"plots/KM-20x25.png\" width=\"460\" height=\"460\" align=\"left\">\n",
    "\n",
    "\n",
    "\n",
    "<img  src=\"plots/KM-20x25_e.png\" width=\"460\" height=\"460\" align=\"right\">\n"
   ]
  },
  {
   "cell_type": "markdown",
   "metadata": {},
   "source": [
    "BIG SOMS"
   ]
  },
  {
   "cell_type": "markdown",
   "metadata": {},
   "source": [
    "kmeans clustering & extreme values kmeans clustering\n",
    "\n",
    "<a href=\"plots/KM-100x60.png\">\n",
    "<img border=\"0\"  src=\"plots/KM-100x60.png\" width=\"450\" height=\"450\" align=\"left\">\n",
    "</a>\n",
    "<a href=\"plots/KM-100x60_e.png\">\n",
    "<img border=\"0\"  src=\"plots/KM-100x60_e.png\" width=\"450\" height=\"450\" align=\"right\">\n",
    "</a>"
   ]
  },
  {
   "cell_type": "markdown",
   "metadata": {},
   "source": [
    "# CHAINLINK"
   ]
  },
  {
   "cell_type": "markdown",
   "metadata": {},
   "source": [
    "## 1.HIERARCHICAL CLUSTERING"
   ]
  },
  {
   "cell_type": "markdown",
   "metadata": {},
   "source": [
    "SMALL SOMS"
   ]
  },
  {
   "cell_type": "markdown",
   "metadata": {},
   "source": [
    "CASE 1: SINGLE LINKAGE & SINGLE LINKAGE - EXTREME VALUES"
   ]
  },
  {
   "cell_type": "markdown",
   "metadata": {},
   "source": [
    "\n",
    "<img src=\"plots/CHAINLINK-HC_single-20x25.png\" style=width:460px;height:460px; align=\"left\">\n",
    "<img src=\"plots/CHAINLINK-HC_single-20x25_e.png\" style=width:460px;height:460px; align=\"right\">"
   ]
  },
  {
   "cell_type": "markdown",
   "metadata": {},
   "source": [
    "CASE 2: COMPLETE LINKAGE & COMPLETE LINKAGE - EXTREME VALUES \n",
    "\n",
    "<img src=\"plots/CHAINLINK-HC_complete-20x25.png\" style=width:460px;height:460px; align=\"left\">\n",
    "<img src=\"plots/CHAINLINK-HC_complete-20x25_e.png\" style=width:460px;height:460px; align=\"right\">"
   ]
  },
  {
   "cell_type": "markdown",
   "metadata": {},
   "source": [
    "CASE 3: WARD LINKAGE & WARD LINKAGE - EXTREME VALUES \n",
    "\n",
    "<img src=\"plots/CHAINLINK-HC_ward-20x25.png\" style=width:460px;height:460px; align=\"left\">\n",
    "<img src=\"plots/CHAINLINK-HC_ward-20x25_e.png\" style=width:460px;height:460px; align=\"right\">"
   ]
  },
  {
   "cell_type": "markdown",
   "metadata": {},
   "source": [
    "BIG SOMS"
   ]
  },
  {
   "cell_type": "markdown",
   "metadata": {},
   "source": [
    "CASE 1: SINGLE LINKAGE & SINGLE LINKAGE - EXTREME VALUES \n",
    "\n",
    "<a href=\"plots/CHAINLINK-HC_single-100x60.png\">\n",
    "<img border=\"0\"  src=\"plots/CHAINLINK-HC_single-100x60.png\" width=\"450\" height=\"450\" align=\"left\">\n",
    "</a>\n",
    "<a href=\"plots/CHAINLINK-HC_single-100x60_e.png\">\n",
    "<img border=\"0\"  src=\"plots/CHAINLINK-HC_single-100x60_e.png\" width=\"450\" height=\"450\" align=\"right\">\n",
    "</a>"
   ]
  },
  {
   "cell_type": "markdown",
   "metadata": {},
   "source": [
    "CASE 2: COMPLETE LINKAGE & COMPLETE LINKAGE - EXTREME VALUES \n",
    "    \n",
    "<a href=\"plots/CHAINLINK-HC_complete-100x60.png\">\n",
    "<img border=\"0\"  src=\"plots/CHAINLINK-HC_complete-100x60.png\" width=\"450\" height=\"450\" align=\"left\">\n",
    "</a>\n",
    "<a href=\"plots/CHAINLINK-HC_complete-100x60_e.png\">\n",
    "<img border=\"0\"  src=\"plots/CHAINLINK-HC_complete-100x60_e.png\" width=\"450\" height=\"450\" align=\"right\">\n",
    "</a>"
   ]
  },
  {
   "cell_type": "markdown",
   "metadata": {},
   "source": [
    "CASE 3: WARD LINKAGE & WARD LINKAGE - EXTREME VALUES \n",
    "\n",
    "<a href=\"plots/CHAINLINK-HC_ward-100x60.png\">\n",
    "<img border=\"0\"  src=\"plots/CHAINLINK-HC_ward-100x60.png\" width=\"450\" height=\"450\" align=\"left\">\n",
    "</a>\n",
    "<a href=\"plots/CHAINLINK-HC_ward-100x60_e.png\">\n",
    "<img border=\"0\"  src=\"plots/CHAINLINK-HC_ward-100x60_e.png\" width=\"450\" height=\"450\" align=\"right\">\n",
    "</a>"
   ]
  },
  {
   "cell_type": "markdown",
   "metadata": {},
   "source": [
    "## 2.KMEANS CLUSTERING"
   ]
  },
  {
   "cell_type": "markdown",
   "metadata": {},
   "source": [
    "SMALL SOM"
   ]
  },
  {
   "cell_type": "markdown",
   "metadata": {},
   "source": [
    "kmeans clustering & extreme values kmeans clustering\n",
    "\n",
    "<img src=\"plots/CHAINLINK-KM-20x25.png\" width=\"460\" height=\"460\" align=\"left\">\n",
    "\n",
    "<img  src=\"plots/CHAINLINK-KM-20x25_e.png\" width=\"460\" height=\"460\" align=\"right\">\n"
   ]
  },
  {
   "cell_type": "markdown",
   "metadata": {},
   "source": [
    "BIG SOM\n",
    "kmeans clustering & extreme values kmeans clustering\n",
    "\n",
    "\n",
    "<a href=\"plots/CHAINLINK-KM-100x60.png\">\n",
    "<img border=\"0\"  src=\"plots/CHAINLINK-KM-100x60.png\" width=\"450\" height=\"450\" align=\"left\">\n",
    "</a>\n",
    "<a href=\"plots/CHAINLINK-KM-100x60_e.png\">\n",
    "<img border=\"0\"  src=\"plots/CHAINLINK-KM-100x60_e.png\" width=\"450\" height=\"450\" align=\"right\">\n",
    "</a>\n"
   ]
  },
  {
   "cell_type": "code",
   "execution_count": null,
   "metadata": {},
   "outputs": [],
   "source": []
  }
 ],
 "metadata": {
  "kernelspec": {
   "display_name": "Python 3",
   "language": "python",
   "name": "python3"
  },
  "language_info": {
   "codemirror_mode": {
    "name": "ipython",
    "version": 3
   },
   "file_extension": ".py",
   "mimetype": "text/x-python",
   "name": "python",
   "nbconvert_exporter": "python",
   "pygments_lexer": "ipython3",
   "version": "3.7.4"
  }
 },
 "nbformat": 4,
 "nbformat_minor": 2
}
