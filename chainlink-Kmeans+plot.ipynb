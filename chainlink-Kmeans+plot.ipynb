{
 "cells": [
  {
   "cell_type": "code",
   "execution_count": 48,
   "metadata": {
    "scrolled": true
   },
   "outputs": [],
   "source": [
    "\n",
    "import numpy as np\n",
    "import pickle\n",
    "import matplotlib.pyplot as plt\n",
    "from minisom import MiniSom  \n",
    "from sklearn.cluster import KMeans"
   ]
  },
  {
   "cell_type": "code",
   "execution_count": 49,
   "metadata": {
    "scrolled": false
   },
   "outputs": [
    {
     "name": "stdout",
     "output_type": "stream",
     "text": [
      "SOM Assignment\n"
     ]
    }
   ],
   "source": [
    "print(\"SOM Assignment\")"
   ]
  },
  {
   "cell_type": "code",
   "execution_count": 50,
   "metadata": {
    "scrolled": true
   },
   "outputs": [],
   "source": [
    "chainlink = np.genfromtxt('chainlink.vec', skip_header=4, usecols=list(range(3)))"
   ]
  },
  {
   "cell_type": "code",
   "execution_count": 51,
   "metadata": {
    "scrolled": true
   },
   "outputs": [
    {
     "name": "stdout",
     "output_type": "stream",
     "text": [
      "(1000, 3)\n"
     ]
    }
   ],
   "source": [
    "chainlink\n",
    "print(chainlink.shape)\n",
    "d1=20\n",
    "d2=25\n"
   ]
  },
  {
   "cell_type": "code",
   "execution_count": 111,
   "metadata": {},
   "outputs": [],
   "source": [
    "chainlink_som_small = MiniSom(20, 25, 3, sigma=2, learning_rate=0.1,neighborhood_function='triangle',random_seed=10)\n",
    "chainlink_som_small.train_random(chainlink, 1000)\n",
    "chainlink_som_big = MiniSom(100, 60, 3, sigma=0.3, learning_rate=0.5)\n",
    "chainlink_som_big.train_random(chainlink, 1000)"
   ]
  },
  {
   "cell_type": "code",
   "execution_count": 112,
   "metadata": {},
   "outputs": [],
   "source": [
    "import matplotlib.pyplot as plt\n",
    "from matplotlib.gridspec import GridSpec\n",
    "\n"
   ]
  },
  {
   "cell_type": "code",
   "execution_count": 113,
   "metadata": {},
   "outputs": [],
   "source": [
    "# HIERARCHICAL CLUSTERING"
   ]
  },
  {
   "cell_type": "code",
   "execution_count": 114,
   "metadata": {},
   "outputs": [],
   "source": [
    "from scipy import cluster\n"
   ]
  },
  {
   "cell_type": "code",
   "execution_count": 122,
   "metadata": {},
   "outputs": [
    {
     "name": "stdout",
     "output_type": "stream",
     "text": [
      "0.0025632698533985788\n",
      "0.352\n",
      "0.0038795286688477855\n",
      "0.993\n"
     ]
    },
    {
     "data": {
      "image/png": "[encoded data removed]",
      "text/plain": [
       "<Figure size 432x288 with 1 Axes>"
      ]
     },
     "metadata": {
      "needs_background": "light"
     },
     "output_type": "display_data"
    },
    {
     "name": "stdout",
     "output_type": "stream",
     "text": [
      "[[2.02000000e+02 4.90000000e+02 1.06265808e-02 2.00000000e+00]\n",
      " [3.51000000e+02 4.20000000e+02 1.17544820e-02 2.00000000e+00]\n",
      " [2.21000000e+02 3.94000000e+02 1.39009182e-02 2.00000000e+00]\n",
      " ...\n",
      " [9.94000000e+02 9.95000000e+02 3.12378540e-01 4.96000000e+02]\n",
      " [9.93000000e+02 9.96000000e+02 3.19491482e-01 4.99000000e+02]\n",
      " [3.64000000e+02 9.97000000e+02 3.43306285e-01 5.00000000e+02]]\n"
     ]
    }
   ],
   "source": [
    "chainlink_som_small.train_random(chainlink, 1000)\n",
    "\n",
    "print(chainlink_som_small.quantization_error(chainlink))\n",
    "print(chainlink_som_small.topographic_error(chainlink))\n",
    "\n",
    "print(chainlink_som_big.quantization_error(chainlink))\n",
    "print(chainlink_som_big.topographic_error(chainlink))\n",
    "\n",
    "\n",
    "\n",
    "weights=chainlink_som_small.get_weights()\n",
    "weights = chainlink_som_small.get_weights().reshape(d1*d2,-1) \n",
    "\n",
    "\n",
    "\n",
    "\n",
    "\n",
    "def hierarchy(weights):\n",
    "    Z = cluster.hierarchy.linkage(weights,'single')\n",
    "    d=cluster.hierarchy.dendrogram(Z,truncate_mode='level')\n",
    "    #Y=cluster.hierarchy.single(weights)\n",
    "    plt.show()\n",
    "    print(Z)\n",
    "\n",
    "    cutree = cluster.hierarchy.cut_tree(Z, n_clusters=[2,10])\n",
    "    labels=cutree[:,1]\n",
    "    #print(\"Labeling\",labels)\n",
    "\n",
    "    #print(cutree)\n",
    "    return labels\n",
    "\n",
    "labels=hierarchy(weights)\n"
   ]
  },
  {
   "cell_type": "code",
   "execution_count": 116,
   "metadata": {},
   "outputs": [
    {
     "name": "stdout",
     "output_type": "stream",
     "text": [
      "[0. 1.]\n"
     ]
    }
   ],
   "source": [
    "def winners_labels(som,weights,labels):\n",
    "    winners_labels = np.zeros(shape=(d1,d2))\n",
    "    for cnt, xx in enumerate (weights):\n",
    "        w = som.winner(xx)\n",
    "        l = labels[cnt]\n",
    "        winners_labels[w[0],w[1]] = l\n",
    "    return winners_labels\n",
    "\n",
    "def dif_matrix(label_matrix):\n",
    "    dif_mat = np.zeros(shape=label_matrix.shape)\n",
    "    for i,row in enumerate(label_matrix):\n",
    "        for j,label in enumerate(row):\n",
    "            if i < label_matrix.shape[0]-1 and label_matrix[i][j] != label_matrix[i+1][j]:\n",
    "                dif_mat[i][j] = 1\n",
    "            elif j < label_matrix.shape[1]-1 and label_matrix[i][j] != label_matrix[i][j+1]:\n",
    "                dif_mat[i][j] = 1\n",
    "    return dif_mat\n",
    "\n",
    "dif_matrix(winners_labels(chainlink_som_small,weights,labels))\n",
    "\n",
    "print(np.unique(dif_matrix(winners_labels(chainlink_som_small,weights,labels))))"
   ]
  },
  {
   "cell_type": "code",
   "execution_count": 117,
   "metadata": {
    "scrolled": true
   },
   "outputs": [
    {
     "data": {
      "image/png": "[encoded data removed]",
      "text/plain": [
       "<Figure size 720x864 with 1 Axes>"
      ]
     },
     "metadata": {
      "needs_background": "light"
     },
     "output_type": "display_data"
    }
   ],
   "source": [
    "## import matplotlib.pyplot as plt\n",
    "from matplotlib.gridspec import GridSpec\n",
    "\n",
    "def plot_with_labelling(som, d1, d2, labels, coloring_labels, rweights, debug=False):\n",
    "\n",
    "    plt.figure(figsize=(d1//2, d2//2))\n",
    "    # Plotting the response for each pattern in the iris dataset\n",
    "    #win_map = som.win_map(rweights)\n",
    "    #plt.pcolor(som.distance_map().T, cmap='bone_r')  # plotting the distance map as background\n",
    "    #plt.colorbar()\n",
    "    # use different colors and markers for each label\n",
    "    #markers = ['o', 's', 'D']\n",
    "    colors = ['C' + str(i) for i in np.unique(coloring_labels)] #['C0', 'C1', 'C2', 'C3', 'C4']\n",
    "    win_labels = winners_labels(som,rweights,labels)\n",
    "    diff_mat_ = dif_matrix(win_labels)\n",
    "    diff_mat = np.append(diff_mat_,np.ones((diff_mat_.shape[0],1)),axis=1)\n",
    "    diff_mat = np.append(diff_mat,np.ones((1,diff_mat.shape[1])),axis=0)\n",
    "\n",
    "    for cnt, xx in enumerate(rweights):\n",
    "        w = som.winner(xx)  # getting the winner\n",
    "        #w = xx\n",
    "        # palce a marker on the winning position for the sample xx\n",
    "        plt.plot(w[0]+.5, w[1]+.5, 's', markerfacecolor=colors[coloring_labels[cnt]],\n",
    "                markeredgecolor=colors[coloring_labels[cnt]], markersize=20, markeredgewidth=2)\n",
    "    def plot_borders(debug=False):\n",
    "        border_color = lambda c : c if debug else 'black'\n",
    "        for i,row in enumerate(diff_mat):\n",
    "            for j,v in enumerate(row):\n",
    "                if i < diff_mat.shape[0]-1 and j < diff_mat.shape[1]-1:\n",
    "                    if v != 0: \n",
    "                        # case where\n",
    "                        # - -  -\n",
    "                        # -[1] 1\n",
    "                        # - -  -\n",
    "                        # then draw horizontal line\n",
    "                        if i > 0 and diff_mat[i-1][j] != 0:\n",
    "                            plt.plot([i,i+1],[j+1,j+1], color=border_color('red'))\n",
    "                        # edge case where\n",
    "                        # - - -\n",
    "                        # [1] -\n",
    "                        # - - -\n",
    "                        # then draw horizontal line\n",
    "                        elif i == 0 and j != 0:\n",
    "                            plt.plot([i,i+1],[j+1,j+1], color=border_color('green'))    \n",
    "                        # case where\n",
    "                        # - 0  1\n",
    "                        # -[1] 0\n",
    "                        # - -  -\n",
    "                        # then draw horizontal line\n",
    "                        elif i > 0 and diff_mat[i-1][j] == 0 and diff_mat[i][j+1] == 0 and diff_mat[i-1][j+1] != 0:\n",
    "                            plt.plot([i,i+1],[j+1,j+1], color=border_color('blue'))\n",
    "                        # case where\n",
    "                        # - 1  -\n",
    "                        # -[1] -\n",
    "                        # - -  -\n",
    "                        # then draw vertical line\n",
    "                        if diff_mat[i][j+1] != 0:\n",
    "                            plt.plot([i+1,i+1],[j+1,j+2], color=border_color('black'))\n",
    "                        # edge case where\n",
    "                        # - [1] -\n",
    "                        # -  -  -\n",
    "                        # then draw vertical line\n",
    "                        if j == 0 and i != 0:\n",
    "                            plt.plot([i+1,i+1],[j,j+1], color=border_color('brown'))    \n",
    "                    # case where\n",
    "                    # - -  -\n",
    "                    # -[0] 1\n",
    "                    # - 1  0\n",
    "                    # then draw vertical line\n",
    "                    elif diff_mat[i+1][j] != 0 and diff_mat[i][j+1] != 0 and diff_mat[i+1][j+1] == 0:\n",
    "                        plt.plot([i+1,i+1],[j+1,j+2], color=border_color('purple'))\n",
    "    plot_borders(debug)\n",
    "    plt.axis([0, d1, 0, d2])\n",
    "    plt.show()\n",
    "\n",
    "d1 = 20\n",
    "d2 = 25\n",
    "rweights = chainlink_som_small.get_weights().reshape(d1*d2,-1) # first argument is product of first two dimensions of the input dataset\n",
    "Z = cluster.hierarchy.linkage(rweights,'ward')\n",
    "labels = cluster.hierarchy.cut_tree(Z, n_clusters=2)\n",
    "labels = [l[0] for l in labels]\n",
    "plot_with_labelling(chainlink_som_small,d1,d2,labels,labels,rweights,debug=False)"
   ]
  },
  {
   "cell_type": "code",
   "execution_count": 118,
   "metadata": {},
   "outputs": [],
   "source": [
    "# K-Means clustering"
   ]
  },
  {
   "cell_type": "code",
   "execution_count": 119,
   "metadata": {},
   "outputs": [
    {
     "name": "stdout",
     "output_type": "stream",
     "text": [
      "[[[ 4.78768093e-01 -8.45673489e-01  2.35833550e-01]\n",
      "  [ 6.43051487e-01  9.82240976e-03 -7.50818762e-01]\n",
      "  [-4.94012906e-01  4.74792306e-01 -6.83741381e-01]\n",
      "  ...\n",
      "  [-6.94094509e-01 -1.07739978e-01 -2.95533046e-01]\n",
      "  [ 5.07100172e-01 -8.51939204e-01 -1.30571850e-01]\n",
      "  [-6.69172264e-01  4.93513500e-01 -5.55565394e-01]]\n",
      "\n",
      " [[-2.30571253e-01 -4.63625262e-01  8.64562026e-02]\n",
      "  [ 5.88190093e-01 -1.21682560e-01  1.63746783e-02]\n",
      "  [ 4.91523713e-01  7.08732140e-01 -4.82510531e-01]\n",
      "  ...\n",
      "  [ 5.21900369e-01  6.63098805e-01  5.29761805e-01]\n",
      "  [ 9.38663232e-02 -2.07712322e-01 -1.49990967e-01]\n",
      "  [-2.86973710e-02 -6.11668346e-01  1.77663077e-01]]\n",
      "\n",
      " [[ 9.23338447e-03 -9.32134918e-01 -4.88353446e-02]\n",
      "  [ 5.10236290e-01  1.47069454e-01 -7.95454203e-03]\n",
      "  [ 9.32767531e-01  1.10715025e+00 -1.72610988e-02]\n",
      "  ...\n",
      "  [-4.57511452e-01 -3.59274437e-01 -2.64517272e-01]\n",
      "  [-5.94583954e-02 -8.07230511e-01  4.69561378e-01]\n",
      "  [ 1.41162396e-02 -8.96077256e-01  3.97995654e-01]]\n",
      "\n",
      " ...\n",
      "\n",
      " [[ 6.42758307e-01  3.07628943e-01 -7.00556554e-01]\n",
      "  [ 7.04396523e-01  6.86152033e-01 -1.81456310e-01]\n",
      "  [ 8.34686209e-01 -3.73022806e-01  4.05157894e-01]\n",
      "  ...\n",
      "  [ 1.32069466e-01  9.19622157e-01  1.83938632e-01]\n",
      "  [-8.14163439e-01  4.54560064e-01  2.88854580e-01]\n",
      "  [-8.85986085e-01  6.74540256e-01 -1.01896763e-01]]\n",
      "\n",
      " [[ 1.69691001e-01  7.23501821e-01 -6.67703406e-01]\n",
      "  [-4.33008538e-01  7.33564489e-01 -5.23013327e-01]\n",
      "  [ 6.41088453e-01  1.88935396e-01 -7.43847438e-01]\n",
      "  ...\n",
      "  [-3.34386637e-01  5.94531699e-01  5.85755164e-01]\n",
      "  [-8.76741427e-01  5.25539826e-01  2.29228924e-02]\n",
      "  [-9.69756943e-01  7.84808428e-01 -8.85092998e-05]]\n",
      "\n",
      " [[ 9.95633376e-01 -3.88780965e-02 -4.37310124e-02]\n",
      "  [ 7.09988249e-01 -4.62696539e-01  5.30442533e-01]\n",
      "  [ 6.12436194e-01 -2.08449105e-01 -7.62542378e-01]\n",
      "  ...\n",
      "  [-4.58123841e-01  7.33144150e-01 -3.63284969e-01]\n",
      "  [-8.21825387e-01  5.61735570e-01 -1.58482321e-01]\n",
      "  [-9.29060341e-01  6.44486076e-01  3.30617624e-02]]]\n",
      "Y_Kmeans2 KMeans(algorithm='auto', copy_x=True, init='k-means++', max_iter=300,\n",
      "       n_clusters=2, n_init=10, n_jobs=None, precompute_distances='auto',\n",
      "       random_state=0, tol=0.0001, verbose=0)\n"
     ]
    }
   ],
   "source": [
    "\n",
    "\n",
    "starting_weights = chainlink_som_small.get_weights()\n",
    "print(starting_weights)\n",
    "weightskM = chainlink_som_small.get_weights().reshape(d1*d2,-1) # first argument is product of first two dimensions of the input dataset\n",
    "\n",
    "#x=weights[1]\n",
    "#print(weights[x])\n",
    "labels_kM = KMeans(n_clusters=2,random_state=0)\n",
    "y_kmeans2 = kmeans2.fit(weightskM)\n",
    "print(\"Y_Kmeans2\",y_kmeans2)\n",
    "#KMlabels=y_kmeans2.labels_\n",
    "\n",
    "#print(KMlabels)\n"
   ]
  },
  {
   "cell_type": "code",
   "execution_count": 120,
   "metadata": {},
   "outputs": [
    {
     "name": "stdout",
     "output_type": "stream",
     "text": [
      "[0 0 1 1 0 1 1 1 1 1 1 0 1 1 1 0 0 1 1 1 1 1 0 0 1 0 0 1 0 1 0 1 1 1 1 1 1\n",
      " 1 1 1 1 0 1 1 1 1 1 1 0 0 0 0 1 1 1 0 0 0 0 1 1 1 1 0 0 1 0 0 0 1 1 1 0 0\n",
      " 0 0 1 1 1 1 0 0 0 1 1 1 1 0 0 1 0 0 0 1 1 1 0 0 0 0 0 1 1 1 0 0 0 0 0 0 0\n",
      " 0 0 0 1 0 1 0 0 1 0 0 0 0 0 1 1 1 1 1 0 0 1 0 1 0 1 0 1 0 0 1 0 0 1 1 1 0\n",
      " 0 0 1 1 1 0 1 1 1 1 1 0 0 1 0 0 1 1 0 0 1 0 1 1 1 0 0 1 0 0 0 0 0 0 0 0 0\n",
      " 0 0 0 1 0 1 0 1 0 1 0 1 0 1 0 1 1 0 0 1 0 1 0 0 0 0 1 1 0 0 0 0 0 0 0 0 1\n",
      " 0 1 0 1 1 0 1 1 1 0 0 0 1 0 1 1 1 1 0 1 1 0 0 0 0 1 0 0 1 1 0 1 1 1 1 1 1\n",
      " 1 1 0 0 0 1 1 1 1 1 0 0 0 0 1 0 1 1 0 1 0 1 1 0 0 0 0 0 1 1 1 1 1 1 1 1 1\n",
      " 0 0 1 1 1 0 0 0 1 1 1 1 0 1 1 1 1 1 1 0 1 1 0 0 0 0 0 0 0 0 1 0 0 0 0 0 0\n",
      " 0 1 1 1 0 1 1 0 1 0 0 1 1 0 0 0 1 1 0 0 1 0 1 0 1 1 1 1 1 0 0 0 0 0 0 0 0\n",
      " 1 0 0 0 1 0 1 1 0 0 1 1 0 0 1 1 0 0 0 0 0 1 0 0 1 0 0 0 0 1 0 0 0 0 0 1 0\n",
      " 0 0 0 0 1 1 0 1 1 0 0 1 0 0 0 0 0 0 1 1 0 0 1 1 0 0 0 0 0 0 1 1 0 0 0 0 0\n",
      " 1 1 1 1 1 1 1 1 1 1 1 1 0 0 0 0 1 1 0 0 0 0 1 1 1 1 1 1 1 1 1 0 0 0 1 1 0\n",
      " 0 1 0 0 0 1 1 1 1 0 1 0 1 0 0 1 1 1 1]\n"
     ]
    },
    {
     "data": {
      "image/png": "[encoded data removed]",
      "text/plain": [
       "<Figure size 720x864 with 1 Axes>"
      ]
     },
     "metadata": {
      "needs_background": "light"
     },
     "output_type": "display_data"
    }
   ],
   "source": [
    "kmeans = KMeans(n_clusters=2, random_state=0).fit(weightskM)\n",
    "labels_kM = kmeans.labels_\n",
    "print(labels_kM)\n",
    "plot_with_labelling(chainlink_som_small,d1,d2,labels_kM,labels_kM,rweights,debug=False)"
   ]
  },
  {
   "cell_type": "code",
   "execution_count": null,
   "metadata": {},
   "outputs": [],
   "source": []
  }
 ],
 "metadata": {
  "kernelspec": {
   "display_name": "Python 3",
   "language": "python",
   "name": "python3"
  },
  "language_info": {
   "codemirror_mode": {
    "name": "ipython",
    "version": 3
   },
   "file_extension": ".py",
   "mimetype": "text/x-python",
   "name": "python",
   "nbconvert_exporter": "python",
   "pygments_lexer": "ipython3",
   "version": "3.7.4"
  }
 },
 "nbformat": 4,
 "nbformat_minor": 2
}
