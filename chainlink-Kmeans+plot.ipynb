{
 "cells": [
  {
   "cell_type": "code",
   "execution_count": 86,
   "metadata": {
    "scrolled": true
   },
   "outputs": [],
   "source": [
    "\n",
    "import numpy as np\n",
    "import pickle\n",
    "import matplotlib.pyplot as plt\n",
    "from minisom import MiniSom  \n",
    "from sklearn.cluster import KMeans"
   ]
  },
  {
   "cell_type": "code",
   "execution_count": 87,
   "metadata": {
    "scrolled": false
   },
   "outputs": [
    {
     "name": "stdout",
     "output_type": "stream",
     "text": [
      "SOM Assignment\n"
     ]
    }
   ],
   "source": [
    "print(\"SOM Assignment\")"
   ]
  },
  {
   "cell_type": "code",
   "execution_count": 88,
   "metadata": {
    "scrolled": true
   },
   "outputs": [],
   "source": [
    "chainlink = np.genfromtxt('chainlink.vec', skip_header=4, usecols=list(range(3)))"
   ]
  },
  {
   "cell_type": "code",
   "execution_count": 89,
   "metadata": {
    "scrolled": true
   },
   "outputs": [
    {
     "data": {
      "text/plain": [
       "array([[-0.27412  ,  1.9674   , -0.035685 ],\n",
       "       [-0.69395  ,  0.17085  , -0.015858 ],\n",
       "       [ 0.57784  ,  0.23614  , -0.044098 ],\n",
       "       ...,\n",
       "       [ 0.038542 , -0.40502  ,  0.97134  ],\n",
       "       [ 0.0035068, -0.95265  , -0.097193 ],\n",
       "       [ 0.033648 ,  0.14951  , -0.96676  ]])"
      ]
     },
     "execution_count": 89,
     "metadata": {},
     "output_type": "execute_result"
    }
   ],
   "source": [
    "chainlink"
   ]
  },
  {
   "cell_type": "code",
   "execution_count": 90,
   "metadata": {},
   "outputs": [],
   "source": [
    "chainlink_som_small = MiniSom(20, 25, 3, sigma=0.3, learning_rate=0.5)\n",
    "chainlink_som_small.train_random(chainlink, 100)\n",
    "chainlink_som_big = MiniSom(100, 60, 3, sigma=0.3, learning_rate=0.5)\n",
    "chainlink_som_big.train_random(chainlink, 100)"
   ]
  },
  {
   "cell_type": "code",
   "execution_count": 91,
   "metadata": {},
   "outputs": [
    {
     "name": "stdout",
     "output_type": "stream",
     "text": [
      "[[[ 0.07728119  0.63020448 -0.77257358]\n",
      "  [-0.6455223  -0.61969582 -0.44640571]\n",
      "  [-0.48935225  0.69299065  0.52943209]\n",
      "  ...\n",
      "  [ 0.03726932 -0.84923595 -0.5266966 ]\n",
      "  [ 0.49308567 -0.45625825 -0.74073945]\n",
      "  [-0.17873341 -0.94831957  0.26219147]]\n",
      "\n",
      " [[ 0.18499199  0.96679233  0.17632512]\n",
      "  [-0.42550421 -0.89412933 -0.13956689]\n",
      "  [-0.42830715  0.8846026   0.18447555]\n",
      "  ...\n",
      "  [-0.89252367 -0.4357018   0.1164708 ]\n",
      "  [-0.44393872 -0.88265549 -0.1543946 ]\n",
      "  [-0.57442341 -0.79427936 -0.19788393]]\n",
      "\n",
      " [[ 0.51608878 -0.62737483 -0.5831408 ]\n",
      "  [ 0.44310436 -0.69648541  0.56441705]\n",
      "  [ 0.65830991  0.38758921  0.6452927 ]\n",
      "  ...\n",
      "  [-0.80031925 -0.30513836 -0.51611984]\n",
      "  [ 0.51229149 -0.85133154 -0.11310192]\n",
      "  [-0.33192405 -0.27821347 -0.90134549]]\n",
      "\n",
      " ...\n",
      "\n",
      " [[ 0.82348296 -0.54517234  0.15704438]\n",
      "  [-0.5052421   0.54143566  0.67199541]\n",
      "  [ 0.60361915 -0.72968189 -0.32125981]\n",
      "  ...\n",
      "  [ 0.70952525 -0.60734604  0.35696667]\n",
      "  [ 0.74334818  0.63580361  0.18828602]\n",
      "  [ 0.53131417  0.82986534 -0.16963986]]\n",
      "\n",
      " [[-0.81309607  0.51542191 -0.27058275]\n",
      "  [-0.72678729  0.3466862  -0.59294934]\n",
      "  [-0.56216797  0.76019161 -0.32569294]\n",
      "  ...\n",
      "  [-0.62836117  0.56481505 -0.53492633]\n",
      "  [ 0.59291229  0.68888329  0.4170068 ]\n",
      "  [ 0.51979916 -0.69542792 -0.49617419]]\n",
      "\n",
      " [[ 0.55232893  0.81642148 -0.16848952]\n",
      "  [ 0.70806289 -0.48419277  0.51400808]\n",
      "  [-0.71294619 -0.4520567  -0.53605267]\n",
      "  ...\n",
      "  [-0.69750515  0.71258561  0.07555337]\n",
      "  [-0.6477777   0.61782956  0.4457249 ]\n",
      "  [-0.03531594 -0.00163804  0.99937486]]]\n"
     ]
    }
   ],
   "source": [
    "starting_weights = chainlink_som_small.get_weights().copy()\n",
    "print(starting_weights)"
   ]
  },
  {
   "cell_type": "code",
   "execution_count": 106,
   "metadata": {},
   "outputs": [
    {
     "name": "stdout",
     "output_type": "stream",
     "text": [
      "[[[ 0.07728119  0.63020448 -0.77257358]\n",
      "  [-0.6455223  -0.61969582 -0.44640571]\n",
      "  [-0.48935225  0.69299065  0.52943209]\n",
      "  ...\n",
      "  [ 0.03726932 -0.84923595 -0.5266966 ]\n",
      "  [ 0.49308567 -0.45625825 -0.74073945]\n",
      "  [-0.17873341 -0.94831957  0.26219147]]\n",
      "\n",
      " [[ 0.18499199  0.96679233  0.17632512]\n",
      "  [-0.42550421 -0.89412933 -0.13956689]\n",
      "  [-0.42830715  0.8846026   0.18447555]\n",
      "  ...\n",
      "  [-0.89252367 -0.4357018   0.1164708 ]\n",
      "  [-0.44393872 -0.88265549 -0.1543946 ]\n",
      "  [-0.57442341 -0.79427936 -0.19788393]]\n",
      "\n",
      " [[ 0.51608878 -0.62737483 -0.5831408 ]\n",
      "  [ 0.44310436 -0.69648541  0.56441705]\n",
      "  [ 0.65830991  0.38758921  0.6452927 ]\n",
      "  ...\n",
      "  [-0.80031925 -0.30513836 -0.51611984]\n",
      "  [ 0.51229149 -0.85133154 -0.11310192]\n",
      "  [-0.33192405 -0.27821347 -0.90134549]]\n",
      "\n",
      " ...\n",
      "\n",
      " [[ 0.82348296 -0.54517234  0.15704438]\n",
      "  [-0.5052421   0.54143566  0.67199541]\n",
      "  [ 0.60361915 -0.72968189 -0.32125981]\n",
      "  ...\n",
      "  [ 0.70952525 -0.60734604  0.35696667]\n",
      "  [ 0.74334818  0.63580361  0.18828602]\n",
      "  [ 0.53131417  0.82986534 -0.16963986]]\n",
      "\n",
      " [[-0.81309607  0.51542191 -0.27058275]\n",
      "  [-0.72678729  0.3466862  -0.59294934]\n",
      "  [-0.56216797  0.76019161 -0.32569294]\n",
      "  ...\n",
      "  [-0.62836117  0.56481505 -0.53492633]\n",
      "  [ 0.59291229  0.68888329  0.4170068 ]\n",
      "  [ 0.51979916 -0.69542792 -0.49617419]]\n",
      "\n",
      " [[ 0.55232893  0.81642148 -0.16848952]\n",
      "  [ 0.70806289 -0.48419277  0.51400808]\n",
      "  [-0.71294619 -0.4520567  -0.53605267]\n",
      "  ...\n",
      "  [-0.69750515  0.71258561  0.07555337]\n",
      "  [-0.6477777   0.61782956  0.4457249 ]\n",
      "  [-0.03531594 -0.00163804  0.99937486]]]\n",
      "[1 0 0 0 1 0 0 0 0 1 0 0 1 0 0 1 1 0 0 0 1 1 0 0 0]\n"
     ]
    },
    {
     "data": {
      "text/plain": [
       "array([[-0.49100336, -0.24521655,  0.24727195],\n",
       "       [ 0.55489807,  0.10904144, -0.29451254]])"
      ]
     },
     "execution_count": 106,
     "metadata": {},
     "output_type": "execute_result"
    }
   ],
   "source": [
    "x=starting_weights[1]\n",
    "print(starting_weights)\n",
    "kmeans2 = KMeans(n_clusters=2)\n",
    "y_kmeans2 = kmeans2.fit_predict(x)\n",
    "print(y_kmeans2)\n",
    "\n",
    "kmeans2.cluster_centers_"
   ]
  },
  {
   "cell_type": "markdown",
   "metadata": {},
   "source": [
    "## with open('som.p', 'wb') as outfile:\n",
    "    pickle.dump(som, outfile)"
   ]
  },
  {
   "cell_type": "code",
   "execution_count": 109,
   "metadata": {},
   "outputs": [
    {
     "data": {
      "text/plain": [
       "<matplotlib.collections.PathCollection at 0x24699c12d48>"
      ]
     },
     "execution_count": 109,
     "metadata": {},
     "output_type": "execute_result"
    },
    {
     "data": {
      "image/png": "[encoded data removed]",
      "text/plain": [
       "<Figure size 432x288 with 1 Axes>"
      ]
     },
     "metadata": {
      "needs_background": "light"
     },
     "output_type": "display_data"
    }
   ],
   "source": [
    "plt.scatter (x[:,0],x[:,1],c=y_kmeans2,cmap='rainbow')\n",
    "\n"
   ]
  }
 ],
 "metadata": {
  "kernelspec": {
   "display_name": "Python 3",
   "language": "python",
   "name": "python3"
  },
  "language_info": {
   "codemirror_mode": {
    "name": "ipython",
    "version": 3
   },
   "file_extension": ".py",
   "mimetype": "text/x-python",
   "name": "python",
   "nbconvert_exporter": "python",
   "pygments_lexer": "ipython3",
   "version": "3.7.4"
  }
 },
 "nbformat": 4,
 "nbformat_minor": 2
}
