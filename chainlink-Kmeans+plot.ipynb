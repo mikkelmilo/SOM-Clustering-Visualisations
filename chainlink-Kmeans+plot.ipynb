{
 "cells": [
  {
   "cell_type": "code",
   "execution_count": 57,
   "metadata": {
    "scrolled": true
   },
   "outputs": [],
   "source": [
    "\n",
    "import numpy as np\n",
    "import pickle\n",
    "import matplotlib.pyplot as plt\n",
    "from minisom import MiniSom  \n",
    "from sklearn.cluster import KMeans"
   ]
  },
  {
   "cell_type": "code",
   "execution_count": 58,
   "metadata": {
    "scrolled": false
   },
   "outputs": [
    {
     "name": "stdout",
     "output_type": "stream",
     "text": [
      "SOM Assignment\n"
     ]
    }
   ],
   "source": [
    "print(\"SOM Assignment\")"
   ]
  },
  {
   "cell_type": "code",
   "execution_count": 59,
   "metadata": {
    "scrolled": true
   },
   "outputs": [],
   "source": [
    "chainlink = np.genfromtxt('chainlink.vec', skip_header=4, usecols=list(range(3)))"
   ]
  },
  {
   "cell_type": "code",
   "execution_count": 60,
   "metadata": {
    "scrolled": true
   },
   "outputs": [
    {
     "name": "stdout",
     "output_type": "stream",
     "text": [
      "(1000, 3)\n"
     ]
    }
   ],
   "source": [
    "chainlink\n",
    "print(chainlink.shape)\n",
    "d1=20\n",
    "d2=25\n"
   ]
  },
  {
   "cell_type": "code",
   "execution_count": 61,
   "metadata": {},
   "outputs": [
    {
     "name": "stderr",
     "output_type": "stream",
     "text": [
      "C:\\Users\\Stefana Iosub\\Miniconda3\\lib\\site-packages\\minisom.py:145: UserWarning: Warning: sigma is too high for the dimension of the map.\n",
      "  warn('Warning: sigma is too high for the dimension of the map.')\n",
      "C:\\Users\\Stefana Iosub\\Miniconda3\\lib\\site-packages\\numpy\\linalg\\linalg.py:2512: RuntimeWarning: overflow encountered in multiply\n",
      "  s = (x.conj() * x).real\n",
      "C:\\Users\\Stefana Iosub\\Miniconda3\\lib\\site-packages\\numpy\\linalg\\linalg.py:2513: RuntimeWarning: overflow encountered in reduce\n",
      "  return sqrt(add.reduce(s, axis=axis, keepdims=keepdims))\n",
      "C:\\Users\\Stefana Iosub\\Miniconda3\\lib\\site-packages\\minisom.py:263: RuntimeWarning: invalid value encountered in add\n",
      "  self._weights += einsum('ij, ijk->ijk', g, x-self._weights)\n"
     ]
    }
   ],
   "source": [
    "chainlink_som_small = MiniSom(20, 25, 3, sigma=20, learning_rate=0.1,neighborhood_function='triangle',random_seed=10)\n",
    "chainlink_som_small.train_random(chainlink, 10000)\n",
    "chainlink_som_big = MiniSom(100, 60, 3, sigma=20, learning_rate=0.5)\n",
    "chainlink_som_big.train_random(chainlink, 10000)"
   ]
  },
  {
   "cell_type": "code",
   "execution_count": 62,
   "metadata": {},
   "outputs": [],
   "source": [
    "import matplotlib.pyplot as plt\n",
    "from matplotlib.gridspec import GridSpec\n",
    "\n"
   ]
  },
  {
   "cell_type": "code",
   "execution_count": 63,
   "metadata": {},
   "outputs": [],
   "source": [
    "# HIERARCHICAL CLUSTERING"
   ]
  },
  {
   "cell_type": "code",
   "execution_count": 64,
   "metadata": {},
   "outputs": [],
   "source": [
    "from scipy import cluster\n"
   ]
  },
  {
   "cell_type": "code",
   "execution_count": 65,
   "metadata": {},
   "outputs": [
    {
     "name": "stdout",
     "output_type": "stream",
     "text": [
      "Ev Small SOM\n",
      "nan\n",
      "0.578\n",
      "Mean of Quantization error:\n",
      "nan\n",
      "Ev Big SOM\n"
     ]
    },
    {
     "name": "stderr",
     "output_type": "stream",
     "text": [
      "C:\\Users\\Stefana Iosub\\Miniconda3\\lib\\site-packages\\minisom.py:408: RuntimeWarning: overflow encountered in power\n",
      "  weights_flat_sq = power(weights_flat, 2).sum(axis=1, keepdims=True)\n"
     ]
    },
    {
     "name": "stdout",
     "output_type": "stream",
     "text": [
      "0.010982796020281422\n",
      "0.001\n",
      "Mean of Quantization error:\n",
      "0.013728495025351777\n"
     ]
    },
    {
     "ename": "ValueError",
     "evalue": "The condensed distance matrix must contain only finite values.",
     "output_type": "error",
     "traceback": [
      "\u001b[1;31m---------------------------------------------------------------------------\u001b[0m",
      "\u001b[1;31mValueError\u001b[0m                                Traceback (most recent call last)",
      "\u001b[1;32m<ipython-input-65-66a5e66e565e>\u001b[0m in \u001b[0;36m<module>\u001b[1;34m\u001b[0m\n\u001b[0;32m     39\u001b[0m     \u001b[1;32mreturn\u001b[0m \u001b[0mlabels\u001b[0m\u001b[1;33m\u001b[0m\u001b[1;33m\u001b[0m\u001b[0m\n\u001b[0;32m     40\u001b[0m \u001b[1;33m\u001b[0m\u001b[0m\n\u001b[1;32m---> 41\u001b[1;33m \u001b[0mlabels\u001b[0m\u001b[1;33m=\u001b[0m\u001b[0mhierarchy\u001b[0m\u001b[1;33m(\u001b[0m\u001b[0mweights\u001b[0m\u001b[1;33m)\u001b[0m\u001b[1;33m\u001b[0m\u001b[1;33m\u001b[0m\u001b[0m\n\u001b[0m",
      "\u001b[1;32m<ipython-input-65-66a5e66e565e>\u001b[0m in \u001b[0;36mhierarchy\u001b[1;34m(weights)\u001b[0m\n\u001b[0;32m     26\u001b[0m \u001b[1;33m\u001b[0m\u001b[0m\n\u001b[0;32m     27\u001b[0m \u001b[1;32mdef\u001b[0m \u001b[0mhierarchy\u001b[0m\u001b[1;33m(\u001b[0m\u001b[0mweights\u001b[0m\u001b[1;33m)\u001b[0m\u001b[1;33m:\u001b[0m\u001b[1;33m\u001b[0m\u001b[1;33m\u001b[0m\u001b[0m\n\u001b[1;32m---> 28\u001b[1;33m     \u001b[0mZ\u001b[0m \u001b[1;33m=\u001b[0m \u001b[0mcluster\u001b[0m\u001b[1;33m.\u001b[0m\u001b[0mhierarchy\u001b[0m\u001b[1;33m.\u001b[0m\u001b[0mlinkage\u001b[0m\u001b[1;33m(\u001b[0m\u001b[0mweights\u001b[0m\u001b[1;33m,\u001b[0m\u001b[1;34m'single'\u001b[0m\u001b[1;33m)\u001b[0m\u001b[1;33m\u001b[0m\u001b[1;33m\u001b[0m\u001b[0m\n\u001b[0m\u001b[0;32m     29\u001b[0m     \u001b[0md\u001b[0m\u001b[1;33m=\u001b[0m\u001b[0mcluster\u001b[0m\u001b[1;33m.\u001b[0m\u001b[0mhierarchy\u001b[0m\u001b[1;33m.\u001b[0m\u001b[0mdendrogram\u001b[0m\u001b[1;33m(\u001b[0m\u001b[0mZ\u001b[0m\u001b[1;33m,\u001b[0m\u001b[0mtruncate_mode\u001b[0m\u001b[1;33m=\u001b[0m\u001b[1;34m'level'\u001b[0m\u001b[1;33m)\u001b[0m\u001b[1;33m\u001b[0m\u001b[1;33m\u001b[0m\u001b[0m\n\u001b[0;32m     30\u001b[0m     \u001b[1;31m#Y=cluster.hierarchy.single(weights)\u001b[0m\u001b[1;33m\u001b[0m\u001b[1;33m\u001b[0m\u001b[1;33m\u001b[0m\u001b[0m\n",
      "\u001b[1;32m~\\Miniconda3\\lib\\site-packages\\scipy\\cluster\\hierarchy.py\u001b[0m in \u001b[0;36mlinkage\u001b[1;34m(y, method, metric, optimal_ordering)\u001b[0m\n\u001b[0;32m   1059\u001b[0m \u001b[1;33m\u001b[0m\u001b[0m\n\u001b[0;32m   1060\u001b[0m     \u001b[1;32mif\u001b[0m \u001b[1;32mnot\u001b[0m \u001b[0mnp\u001b[0m\u001b[1;33m.\u001b[0m\u001b[0mall\u001b[0m\u001b[1;33m(\u001b[0m\u001b[0mnp\u001b[0m\u001b[1;33m.\u001b[0m\u001b[0misfinite\u001b[0m\u001b[1;33m(\u001b[0m\u001b[0my\u001b[0m\u001b[1;33m)\u001b[0m\u001b[1;33m)\u001b[0m\u001b[1;33m:\u001b[0m\u001b[1;33m\u001b[0m\u001b[1;33m\u001b[0m\u001b[0m\n\u001b[1;32m-> 1061\u001b[1;33m         raise ValueError(\"The condensed distance matrix must contain only \"\n\u001b[0m\u001b[0;32m   1062\u001b[0m                          \"finite values.\")\n\u001b[0;32m   1063\u001b[0m \u001b[1;33m\u001b[0m\u001b[0m\n",
      "\u001b[1;31mValueError\u001b[0m: The condensed distance matrix must contain only finite values."
     ]
    }
   ],
   "source": [
    "chainlink_som_small.train_random(chainlink, 1000)\n",
    "\n",
    "print(\"Ev Small SOM\")\n",
    "print(chainlink_som_small.quantization_error(chainlink))\n",
    "print(chainlink_som_small.topographic_error(chainlink))\n",
    "print(\"Mean of Quantization error:\")\n",
    "print(chainlink_som_small.quantization_error(chainlink)/d1*d2)\n",
    "\n",
    "\n",
    "print(\"Ev Big SOM\")\n",
    "print(chainlink_som_big.quantization_error(chainlink))\n",
    "print(chainlink_som_big.topographic_error(chainlink))\n",
    "\n",
    "print(\"Mean of Quantization error:\")\n",
    "print(chainlink_som_big.quantization_error(chainlink)/d1*d2)\n",
    "\n",
    "\n",
    "\n",
    "\n",
    "weights=chainlink_som_small.get_weights()\n",
    "weights = chainlink_som_small.get_weights().reshape(d1*d2,-1) \n",
    "\n",
    "\n",
    "\n",
    "\n",
    "\n",
    "def hierarchy(weights):\n",
    "    Z = cluster.hierarchy.linkage(weights,'single')\n",
    "    d=cluster.hierarchy.dendrogram(Z,truncate_mode='level')\n",
    "    #Y=cluster.hierarchy.single(weights)\n",
    "    plt.show()\n",
    "    print(Z)\n",
    "\n",
    "    cutree = cluster.hierarchy.cut_tree(Z, n_clusters=[2,10])\n",
    "    labels=cutree[:,1]\n",
    "    #print(\"Labeling\",labels)\n",
    "\n",
    "    #print(cutree)\n",
    "    return labels\n",
    "\n",
    "labels=hierarchy(weights)\n"
   ]
  },
  {
   "cell_type": "code",
   "execution_count": null,
   "metadata": {},
   "outputs": [],
   "source": [
    "def winners_labels(som,weights,labels):\n",
    "    winners_labels = np.zeros(shape=(d1,d2))\n",
    "    for cnt, xx in enumerate (weights):\n",
    "        w = som.winner(xx)\n",
    "        l = labels[cnt]\n",
    "        winners_labels[w[0],w[1]] = l\n",
    "    return winners_labels\n",
    "\n",
    "def dif_matrix(label_matrix):\n",
    "    dif_mat = np.zeros(shape=label_matrix.shape)\n",
    "    for i,row in enumerate(label_matrix):\n",
    "        for j,label in enumerate(row):\n",
    "            if i < label_matrix.shape[0]-1 and label_matrix[i][j] != label_matrix[i+1][j]:\n",
    "                dif_mat[i][j] = 1\n",
    "            elif j < label_matrix.shape[1]-1 and label_matrix[i][j] != label_matrix[i][j+1]:\n",
    "                dif_mat[i][j] = 1\n",
    "    return dif_mat\n",
    "\n",
    "dif_matrix(winners_labels(chainlink_som_small,weights,labels))\n",
    "\n",
    "print(np.unique(dif_matrix(winners_labels(chainlink_som_small,weights,labels))))"
   ]
  },
  {
   "cell_type": "code",
   "execution_count": null,
   "metadata": {
    "scrolled": true
   },
   "outputs": [],
   "source": [
    "## import matplotlib.pyplot as plt\n",
    "from matplotlib.gridspec import GridSpec\n",
    "\n",
    "def plot_with_labelling(som, d1, d2, labels, coloring_labels, rweights, debug=False):\n",
    "\n",
    "    plt.figure(figsize=(d1//2, d2//2))\n",
    "    # Plotting the response for each pattern in the iris dataset\n",
    "    #win_map = som.win_map(rweights)\n",
    "    #plt.pcolor(som.distance_map().T, cmap='bone_r')  # plotting the distance map as background\n",
    "    #plt.colorbar()\n",
    "    # use different colors and markers for each label\n",
    "    #markers = ['o', 's', 'D']\n",
    "    colors = ['C' + str(i) for i in np.unique(coloring_labels)] #['C0', 'C1', 'C2', 'C3', 'C4']\n",
    "    win_labels = winners_labels(som,rweights,labels)\n",
    "    diff_mat_ = dif_matrix(win_labels)\n",
    "    diff_mat = np.append(diff_mat_,np.ones((diff_mat_.shape[0],1)),axis=1)\n",
    "    diff_mat = np.append(diff_mat,np.ones((1,diff_mat.shape[1])),axis=0)\n",
    "\n",
    "    for cnt, xx in enumerate(rweights):\n",
    "        w = som.winner(xx)  # getting the winner\n",
    "        #w = xx\n",
    "        # palce a marker on the winning position for the sample xx\n",
    "        plt.plot(w[0]+.5, w[1]+.5, 's', markerfacecolor=colors[coloring_labels[cnt]],\n",
    "                markeredgecolor=colors[coloring_labels[cnt]], markersize=20, markeredgewidth=2)\n",
    "    def plot_borders(debug=False):\n",
    "        border_color = lambda c : c if debug else 'black'\n",
    "        for i,row in enumerate(diff_mat):\n",
    "            for j,v in enumerate(row):\n",
    "                if i < diff_mat.shape[0]-1 and j < diff_mat.shape[1]-1:\n",
    "                    if v != 0: \n",
    "                        # case where\n",
    "                        # - -  -\n",
    "                        # -[1] 1\n",
    "                        # - -  -\n",
    "                        # then draw horizontal line\n",
    "                        if i > 0 and diff_mat[i-1][j] != 0:\n",
    "                            plt.plot([i,i+1],[j+1,j+1], color=border_color('red'))\n",
    "                        # edge case where\n",
    "                        # - - -\n",
    "                        # [1] -\n",
    "                        # - - -\n",
    "                        # then draw horizontal line\n",
    "                        elif i == 0 and j != 0:\n",
    "                            plt.plot([i,i+1],[j+1,j+1], color=border_color('green'))    \n",
    "                        # case where\n",
    "                        # - 0  1\n",
    "                        # -[1] 0\n",
    "                        # - -  -\n",
    "                        # then draw horizontal line\n",
    "                        elif i > 0 and diff_mat[i-1][j] == 0 and diff_mat[i][j+1] == 0 and diff_mat[i-1][j+1] != 0:\n",
    "                            plt.plot([i,i+1],[j+1,j+1], color=border_color('blue'))\n",
    "                        # case where\n",
    "                        # - 1  -\n",
    "                        # -[1] -\n",
    "                        # - -  -\n",
    "                        # then draw vertical line\n",
    "                        if diff_mat[i][j+1] != 0:\n",
    "                            plt.plot([i+1,i+1],[j+1,j+2], color=border_color('black'))\n",
    "                        # edge case where\n",
    "                        # - [1] -\n",
    "                        # -  -  -\n",
    "                        # then draw vertical line\n",
    "                        if j == 0 and i != 0:\n",
    "                            plt.plot([i+1,i+1],[j,j+1], color=border_color('brown'))    \n",
    "                    # case where\n",
    "                    # - -  -\n",
    "                    # -[0] 1\n",
    "                    # - 1  0\n",
    "                    # then draw vertical line\n",
    "                    elif diff_mat[i+1][j] != 0 and diff_mat[i][j+1] != 0 and diff_mat[i+1][j+1] == 0:\n",
    "                        plt.plot([i+1,i+1],[j+1,j+2], color=border_color('purple'))\n",
    "    plot_borders(debug)\n",
    "    plt.axis([0, d1, 0, d2])\n",
    "    plt.show()\n",
    "\n",
    "d1 = 20\n",
    "d2 = 25\n",
    "rweights = chainlink_som_small.get_weights().reshape(d1*d2,-1) # first argument is product of first two dimensions of the input dataset\n",
    "Z = cluster.hierarchy.linkage(rweights,'ward')\n",
    "labels = cluster.hierarchy.cut_tree(Z, n_clusters=2)\n",
    "labels = [l[0] for l in labels]\n",
    "plot_with_labelling(chainlink_som_small,d1,d2,labels,labels,rweights,debug=False)"
   ]
  },
  {
   "cell_type": "code",
   "execution_count": null,
   "metadata": {},
   "outputs": [],
   "source": [
    "# K-Means clustering"
   ]
  },
  {
   "cell_type": "code",
   "execution_count": null,
   "metadata": {},
   "outputs": [],
   "source": [
    "\n",
    "\n",
    "starting_weights = chainlink_som_small.get_weights()\n",
    "print(starting_weights)\n",
    "weightskM = chainlink_som_small.get_weights().reshape(d1*d2,-1) # first argument is product of first two dimensions of the input dataset\n",
    "\n",
    "#x=weights[1]\n",
    "#print(weights[x])\n",
    "labels_kM = KMeans(n_clusters=2,random_state=0)\n",
    "y_kmeans2 = labels_kM.fit(weightskM)\n",
    "print(\"Y_Kmeans2\",y_kmeans2)\n",
    "#KMlabels=y_kmeans2.labels_\n",
    "\n",
    "#print(KMlabels)\n"
   ]
  },
  {
   "cell_type": "code",
   "execution_count": null,
   "metadata": {},
   "outputs": [],
   "source": [
    "kmeans = KMeans(n_clusters=2, random_state=0).fit(weightskM)\n",
    "labels_kM = kmeans.labels_\n",
    "print(labels_kM)\n",
    "plot_with_labelling(chainlink_som_small,d1,d2,labels_kM,labels_kM,rweights,debug=False)"
   ]
  },
  {
   "cell_type": "code",
   "execution_count": null,
   "metadata": {},
   "outputs": [],
   "source": []
  }
 ],
 "metadata": {
  "kernelspec": {
   "display_name": "Python 3",
   "language": "python",
   "name": "python3"
  },
  "language_info": {
   "codemirror_mode": {
    "name": "ipython",
    "version": 3
   },
   "file_extension": ".py",
   "mimetype": "text/x-python",
   "name": "python",
   "nbconvert_exporter": "python",
   "pygments_lexer": "ipython3",
   "version": "3.7.4"
  }
 },
 "nbformat": 4,
 "nbformat_minor": 2
}
