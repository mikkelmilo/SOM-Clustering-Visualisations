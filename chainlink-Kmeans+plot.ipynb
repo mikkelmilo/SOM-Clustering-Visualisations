{
 "cells": [
  {
   "cell_type": "code",
   "execution_count": 57,
   "metadata": {
    "scrolled": true
   },
   "outputs": [],
   "source": [
    "\n",
    "import numpy as np\n",
    "import pickle\n",
    "import matplotlib.pyplot as plt\n",
    "from minisom import MiniSom  \n",
    "from sklearn.cluster import KMeans"
   ]
  },
  {
   "cell_type": "code",
   "execution_count": 58,
   "metadata": {
    "scrolled": false
   },
   "outputs": [
    {
     "name": "stdout",
     "output_type": "stream",
     "text": [
      "SOM Assignment\n"
     ]
    }
   ],
   "source": [
    "print(\"SOM Assignment\")"
   ]
  },
  {
   "cell_type": "code",
   "execution_count": 59,
   "metadata": {
    "scrolled": true
   },
   "outputs": [],
   "source": [
    "chainlink = np.genfromtxt('chainlink.vec', skip_header=4, usecols=list(range(3)))"
   ]
  },
  {
   "cell_type": "code",
   "execution_count": 60,
   "metadata": {
    "scrolled": true
   },
   "outputs": [
    {
     "name": "stdout",
     "output_type": "stream",
     "text": [
      "(1000, 3)\n"
     ]
    }
   ],
   "source": [
    "chainlink\n",
    "print(chainlink.shape)\n",
    "d1=20\n",
    "d2=25\n"
   ]
  },
  {
   "cell_type": "code",
   "execution_count": 66,
   "metadata": {},
   "outputs": [],
   "source": [
    "chainlink_som_small = MiniSom(20, 25, 3, sigma=10, learning_rate=0.1,neighborhood_function='triangle',random_seed=10)\n",
    "chainlink_som_small.train_random(chainlink, 10000)\n",
    "chainlink_som_big = MiniSom(100, 60, 3, sigma=20, learning_rate=0.5)\n",
    "chainlink_som_big.train_random(chainlink, 10000)"
   ]
  },
  {
   "cell_type": "code",
   "execution_count": 67,
   "metadata": {},
   "outputs": [],
   "source": [
    "import matplotlib.pyplot as plt\n",
    "from matplotlib.gridspec import GridSpec\n",
    "\n"
   ]
  },
  {
   "cell_type": "code",
   "execution_count": 68,
   "metadata": {},
   "outputs": [],
   "source": [
    "# HIERARCHICAL CLUSTERING"
   ]
  },
  {
   "cell_type": "code",
   "execution_count": 69,
   "metadata": {},
   "outputs": [],
   "source": [
    "from scipy import cluster\n"
   ]
  },
  {
   "cell_type": "code",
   "execution_count": 70,
   "metadata": {},
   "outputs": [
    {
     "name": "stdout",
     "output_type": "stream",
     "text": [
      "Ev Small SOM\n",
      "0.002186519489115691\n",
      "0.087\n",
      "Mean of Quantization error:\n",
      "0.0027331493613946137\n",
      "Ev Big SOM\n",
      "0.010040341403747769\n",
      "0.001\n",
      "Mean of Quantization error:\n",
      "0.01255042675468471\n"
     ]
    },
    {
     "data": {
      "image/png": "[encoded data removed]",
      "text/plain": [
       "<Figure size 432x288 with 1 Axes>"
      ]
     },
     "metadata": {
      "needs_background": "light"
     },
     "output_type": "display_data"
    },
    {
     "name": "stdout",
     "output_type": "stream",
     "text": [
      "[[4.43000000e+02 4.68000000e+02 5.34342845e-03 2.00000000e+00]\n",
      " [4.18000000e+02 5.00000000e+02 6.95287812e-03 3.00000000e+00]\n",
      " [3.30000000e+02 3.55000000e+02 8.25597903e-03 2.00000000e+00]\n",
      " ...\n",
      " [1.34000000e+02 9.95000000e+02 2.29936967e-01 4.98000000e+02]\n",
      " [2.39000000e+02 9.96000000e+02 2.35740086e-01 4.99000000e+02]\n",
      " [2.40000000e+02 9.97000000e+02 2.47287835e-01 5.00000000e+02]]\n"
     ]
    }
   ],
   "source": [
    "chainlink_som_small.train_random(chainlink, 1000)\n",
    "\n",
    "print(\"Ev Small SOM\")\n",
    "print(chainlink_som_small.quantization_error(chainlink))\n",
    "print(chainlink_som_small.topographic_error(chainlink))\n",
    "print(\"Mean of Quantization error:\")\n",
    "print(chainlink_som_small.quantization_error(chainlink)/d1*d2)\n",
    "\n",
    "\n",
    "print(\"Ev Big SOM\")\n",
    "print(chainlink_som_big.quantization_error(chainlink))\n",
    "print(chainlink_som_big.topographic_error(chainlink))\n",
    "\n",
    "print(\"Mean of Quantization error:\")\n",
    "print(chainlink_som_big.quantization_error(chainlink)/d1*d2)\n",
    "\n",
    "\n",
    "\n",
    "\n",
    "weights=chainlink_som_small.get_weights()\n",
    "weights = chainlink_som_small.get_weights().reshape(d1*d2,-1) \n",
    "\n",
    "\n",
    "\n",
    "\n",
    "\n",
    "def hierarchy(weights):\n",
    "    Z = cluster.hierarchy.linkage(weights,'single')\n",
    "    d=cluster.hierarchy.dendrogram(Z,truncate_mode='level')\n",
    "    #Y=cluster.hierarchy.single(weights)\n",
    "    plt.show()\n",
    "    print(Z)\n",
    "\n",
    "    cutree = cluster.hierarchy.cut_tree(Z, n_clusters=[2,10])\n",
    "    labels=cutree[:,1]\n",
    "    #print(\"Labeling\",labels)\n",
    "\n",
    "    #print(cutree)\n",
    "    return labels\n",
    "\n",
    "labels=hierarchy(weights)\n",
    "\n",
    "\n"
   ]
  },
  {
   "cell_type": "code",
   "execution_count": 71,
   "metadata": {},
   "outputs": [
    {
     "name": "stdout",
     "output_type": "stream",
     "text": [
      "[0. 1.]\n"
     ]
    }
   ],
   "source": [
    "def winners_labels(som,weights,labels):\n",
    "    winners_labels = np.zeros(shape=(d1,d2))\n",
    "    for cnt, xx in enumerate (weights):\n",
    "        w = som.winner(xx)\n",
    "        l = labels[cnt]\n",
    "        winners_labels[w[0],w[1]] = l\n",
    "    return winners_labels\n",
    "\n",
    "def dif_matrix(label_matrix):\n",
    "    dif_mat = np.zeros(shape=label_matrix.shape)\n",
    "    for i,row in enumerate(label_matrix):\n",
    "        for j,label in enumerate(row):\n",
    "            if i < label_matrix.shape[0]-1 and label_matrix[i][j] != label_matrix[i+1][j]:\n",
    "                dif_mat[i][j] = 1\n",
    "            elif j < label_matrix.shape[1]-1 and label_matrix[i][j] != label_matrix[i][j+1]:\n",
    "                dif_mat[i][j] = 1\n",
    "    return dif_mat\n",
    "\n",
    "dif_matrix(winners_labels(chainlink_som_small,weights,labels))\n",
    "\n",
    "print(np.unique(dif_matrix(winners_labels(chainlink_som_small,weights,labels))))"
   ]
  },
  {
   "cell_type": "code",
   "execution_count": 72,
   "metadata": {
    "scrolled": true
   },
   "outputs": [
    {
     "data": {
      "image/png": "[encoded data removed]",
      "text/plain": [
       "<Figure size 720x864 with 1 Axes>"
      ]
     },
     "metadata": {
      "needs_background": "light"
     },
     "output_type": "display_data"
    }
   ],
   "source": [
    "## import matplotlib.pyplot as plt\n",
    "from matplotlib.gridspec import GridSpec\n",
    "\n",
    "def plot_with_labelling(som, d1, d2, labels, coloring_labels, rweights, debug=False):\n",
    "\n",
    "    plt.figure(figsize=(d1//2, d2//2))\n",
    "    # Plotting the response for each pattern in the iris dataset\n",
    "    #win_map = som.win_map(rweights)\n",
    "    #plt.pcolor(som.distance_map().T, cmap='bone_r')  # plotting the distance map as background\n",
    "    #plt.colorbar()\n",
    "    # use different colors and markers for each label\n",
    "    #markers = ['o', 's', 'D']\n",
    "    colors = ['C' + str(i) for i in np.unique(coloring_labels)] #['C0', 'C1', 'C2', 'C3', 'C4']\n",
    "    win_labels = winners_labels(som,rweights,labels)\n",
    "    diff_mat_ = dif_matrix(win_labels)\n",
    "    diff_mat = np.append(diff_mat_,np.ones((diff_mat_.shape[0],1)),axis=1)\n",
    "    diff_mat = np.append(diff_mat,np.ones((1,diff_mat.shape[1])),axis=0)\n",
    "\n",
    "    for cnt, xx in enumerate(rweights):\n",
    "        w = som.winner(xx)  # getting the winner\n",
    "        #w = xx\n",
    "        # palce a marker on the winning position for the sample xx\n",
    "        plt.plot(w[0]+.5, w[1]+.5, 's', markerfacecolor=colors[coloring_labels[cnt]],\n",
    "                markeredgecolor=colors[coloring_labels[cnt]], markersize=20, markeredgewidth=2)\n",
    "    def plot_borders(debug=False):\n",
    "        border_color = lambda c : c if debug else 'black'\n",
    "        for i,row in enumerate(diff_mat):\n",
    "            for j,v in enumerate(row):\n",
    "                if i < diff_mat.shape[0]-1 and j < diff_mat.shape[1]-1:\n",
    "                    if v != 0: \n",
    "                        # case where\n",
    "                        # - -  -\n",
    "                        # -[1] 1\n",
    "                        # - -  -\n",
    "                        # then draw horizontal line\n",
    "                        if i > 0 and diff_mat[i-1][j] != 0:\n",
    "                            plt.plot([i,i+1],[j+1,j+1], color=border_color('red'))\n",
    "                        # edge case where\n",
    "                        # - - -\n",
    "                        # [1] -\n",
    "                        # - - -\n",
    "                        # then draw horizontal line\n",
    "                        elif i == 0 and j != 0:\n",
    "                            plt.plot([i,i+1],[j+1,j+1], color=border_color('green'))    \n",
    "                        # case where\n",
    "                        # - 0  1\n",
    "                        # -[1] 0\n",
    "                        # - -  -\n",
    "                        # then draw horizontal line\n",
    "                        elif i > 0 and diff_mat[i-1][j] == 0 and diff_mat[i][j+1] == 0 and diff_mat[i-1][j+1] != 0:\n",
    "                            plt.plot([i,i+1],[j+1,j+1], color=border_color('blue'))\n",
    "                        # case where\n",
    "                        # - 1  -\n",
    "                        # -[1] -\n",
    "                        # - -  -\n",
    "                        # then draw vertical line\n",
    "                        if diff_mat[i][j+1] != 0:\n",
    "                            plt.plot([i+1,i+1],[j+1,j+2], color=border_color('black'))\n",
    "                        # edge case where\n",
    "                        # - [1] -\n",
    "                        # -  -  -\n",
    "                        # then draw vertical line\n",
    "                        if j == 0 and i != 0:\n",
    "                            plt.plot([i+1,i+1],[j,j+1], color=border_color('brown'))    \n",
    "                    # case where\n",
    "                    # - -  -\n",
    "                    # -[0] 1\n",
    "                    # - 1  0\n",
    "                    # then draw vertical line\n",
    "                    elif diff_mat[i+1][j] != 0 and diff_mat[i][j+1] != 0 and diff_mat[i+1][j+1] == 0:\n",
    "                        plt.plot([i+1,i+1],[j+1,j+2], color=border_color('purple'))\n",
    "    plot_borders(debug)\n",
    "    plt.axis([0, d1, 0, d2])\n",
    "    plt.show()\n",
    "\n",
    "d1 = 20\n",
    "d2 = 25\n",
    "rweights = chainlink_som_small.get_weights().reshape(d1*d2,-1) # first argument is product of first two dimensions of the input dataset\n",
    "Z = cluster.hierarchy.linkage(rweights,'ward')\n",
    "labels = cluster.hierarchy.cut_tree(Z, n_clusters=2)\n",
    "labels = [l[0] for l in labels]\n",
    "plot_with_labelling(chainlink_som_small,d1,d2,labels,labels,rweights,debug=False)"
   ]
  },
  {
   "cell_type": "code",
   "execution_count": 73,
   "metadata": {},
   "outputs": [],
   "source": [
    "# K-Means clustering"
   ]
  },
  {
   "cell_type": "code",
   "execution_count": 74,
   "metadata": {},
   "outputs": [
    {
     "name": "stdout",
     "output_type": "stream",
     "text": [
      "[[[-5.50065830e-04 -1.90871395e-01 -1.01122009e+00]\n",
      "  [ 8.27380136e-03 -2.44773612e-01 -9.89528451e-01]\n",
      "  [ 1.11308663e-02 -3.05936178e-01 -9.66854198e-01]\n",
      "  ...\n",
      "  [ 1.82027456e-02 -8.56834633e-01  3.84725846e-01]\n",
      "  [ 2.15203462e-02 -8.42426430e-01  4.30575321e-01]\n",
      "  [ 2.61382315e-02 -8.30211576e-01  4.83803331e-01]]\n",
      "\n",
      " [[-9.98358287e-03 -9.31851867e-02 -1.00542928e+00]\n",
      "  [-1.24519550e-02 -1.72006985e-01 -9.86915411e-01]\n",
      "  [-7.90218419e-03 -2.53714613e-01 -9.65008925e-01]\n",
      "  ...\n",
      "  [ 2.26088541e-02 -8.20576618e-01  4.30252351e-01]\n",
      "  [ 2.68354970e-02 -8.09690848e-01  4.76543077e-01]\n",
      "  [ 3.55169831e-02 -7.92415757e-01  5.31849813e-01]]\n",
      "\n",
      " [[-2.39910365e-02 -1.38753998e-02 -9.98127684e-01]\n",
      "  [-2.97665212e-02 -1.03651706e-01 -9.84082631e-01]\n",
      "  [-2.58514504e-02 -1.85287612e-01 -9.66102019e-01]\n",
      "  ...\n",
      "  [ 1.96978245e-02 -7.59486694e-01  4.75915421e-01]\n",
      "  [ 3.15656299e-02 -7.63230670e-01  5.36720677e-01]\n",
      "  [ 4.46370943e-02 -7.43574752e-01  5.99792065e-01]]\n",
      "\n",
      " ...\n",
      "\n",
      " [[ 9.58551049e-01  8.24626788e-01  1.73151091e-03]\n",
      "  [ 9.73914346e-01  8.96805855e-01 -1.39369988e-02]\n",
      "  [ 9.55011165e-01  9.74091479e-01 -1.87300901e-02]\n",
      "  ...\n",
      "  [-2.17753770e-01  7.12379492e-01  5.91163952e-01]\n",
      "  [-2.86808505e-02  6.44177897e-01  7.36557082e-01]\n",
      "  [ 5.87090295e-03  6.51536495e-01  7.50392219e-01]]\n",
      "\n",
      " [[ 9.21581575e-01  6.74078062e-01  1.62578202e-02]\n",
      "  [ 9.42665040e-01  7.52691134e-01  4.61420943e-03]\n",
      "  [ 9.45231477e-01  8.29947189e-01 -2.46376442e-03]\n",
      "  ...\n",
      "  [-3.02525518e-01  8.11833145e-01  4.83363645e-01]\n",
      "  [-7.81603184e-02  7.39359745e-01  6.39406631e-01]\n",
      "  [-1.41256479e-02  7.35804509e-01  6.73929179e-01]]\n",
      "\n",
      " [[ 8.96826489e-01  6.02507516e-01  2.54215306e-02]\n",
      "  [ 9.15202324e-01  6.53647068e-01  2.13088204e-02]\n",
      "  [ 9.27183708e-01  7.24245750e-01  1.58947943e-02]\n",
      "  ...\n",
      "  [-4.96851144e-01  9.09405611e-01  3.39071507e-01]\n",
      "  [-2.36516721e-01  8.34765496e-01  5.02958484e-01]\n",
      "  [-8.66047557e-02  8.00693266e-01  5.89486553e-01]]]\n",
      "Y_Kmeans2 KMeans(algorithm='auto', copy_x=True, init='k-means++', max_iter=300,\n",
      "       n_clusters=2, n_init=10, n_jobs=None, precompute_distances='auto',\n",
      "       random_state=0, tol=0.0001, verbose=0)\n"
     ]
    }
   ],
   "source": [
    "\n",
    "\n",
    "starting_weights = chainlink_som_small.get_weights()\n",
    "print(starting_weights)\n",
    "weightskM = chainlink_som_small.get_weights().reshape(d1*d2,-1) # first argument is product of first two dimensions of the input dataset\n",
    "\n",
    "#x=weights[1]\n",
    "#print(weights[x])\n",
    "labels_kM = KMeans(n_clusters=2,random_state=0)\n",
    "y_kmeans2 = labels_kM.fit(weightskM)\n",
    "print(\"Y_Kmeans2\",y_kmeans2)\n",
    "#KMlabels=y_kmeans2.labels_\n",
    "\n",
    "#print(KMlabels)\n"
   ]
  },
  {
   "cell_type": "code",
   "execution_count": 75,
   "metadata": {},
   "outputs": [
    {
     "name": "stdout",
     "output_type": "stream",
     "text": [
      "[1 1 1 1 1 1 1 1 1 1 1 1 1 1 1 1 1 1 1 1 1 1 1 1 1 1 1 1 1 1 1 1 1 1 1 1 1\n",
      " 1 1 1 1 1 1 1 1 1 1 1 1 1 1 1 1 1 1 1 1 1 1 1 1 1 1 1 1 1 1 1 1 1 1 1 1 1\n",
      " 1 1 1 1 1 1 1 1 1 1 1 1 1 1 1 1 1 1 1 1 1 1 1 1 1 1 1 1 1 1 1 1 1 1 1 1 1\n",
      " 1 1 1 1 1 1 1 1 1 1 1 1 1 1 1 1 1 1 1 1 1 1 1 1 1 1 1 1 1 1 1 1 1 1 1 1 1\n",
      " 1 1 1 1 1 1 1 1 0 0 0 0 0 1 1 1 1 1 1 1 1 1 1 1 1 1 1 1 1 1 1 0 0 0 0 0 0\n",
      " 0 0 1 1 1 1 1 1 1 1 1 1 1 1 1 1 1 1 0 0 0 0 0 0 0 0 0 0 0 1 1 1 1 1 1 1 1\n",
      " 1 1 1 1 1 0 0 0 0 0 0 0 0 0 0 0 0 0 0 1 1 1 1 1 1 1 1 1 0 0 0 0 0 0 0 0 0\n",
      " 0 0 0 0 0 0 0 0 1 1 1 1 1 1 1 1 0 0 0 0 0 0 0 0 0 0 0 0 0 0 0 0 0 0 1 1 1\n",
      " 1 1 1 1 0 0 0 0 0 0 0 0 0 0 0 0 0 0 0 0 0 0 0 0 0 1 1 1 1 0 0 0 0 0 0 0 0\n",
      " 0 0 0 0 0 0 0 0 0 0 0 0 0 1 1 1 1 0 0 0 0 0 0 0 0 0 0 0 0 0 0 0 0 0 0 0 0\n",
      " 0 0 0 0 0 0 0 0 0 0 0 0 0 0 0 0 0 0 0 0 0 0 0 0 0 0 0 0 0 0 0 0 0 0 0 0 0\n",
      " 0 0 0 0 0 0 0 0 0 0 0 0 0 0 0 0 0 0 0 0 0 0 0 0 0 0 0 0 0 0 0 0 0 0 0 0 0\n",
      " 0 0 0 0 0 0 0 0 0 0 0 0 0 0 0 0 0 0 0 0 0 0 0 0 0 0 0 0 0 0 0 0 0 0 0 0 0\n",
      " 0 0 0 0 0 0 0 0 0 0 0 0 0 0 0 0 0 0 0]\n"
     ]
    },
    {
     "data": {
      "image/png": "[encoded data removed]",
      "text/plain": [
       "<Figure size 720x864 with 1 Axes>"
      ]
     },
     "metadata": {
      "needs_background": "light"
     },
     "output_type": "display_data"
    }
   ],
   "source": [
    "kmeans = KMeans(n_clusters=2, random_state=0).fit(weightskM)\n",
    "labels_kM = kmeans.labels_\n",
    "print(labels_kM)\n",
    "plot_with_labelling(chainlink_som_small,d1,d2,labels_kM,labels_kM,rweights,debug=False)"
   ]
  },
  {
   "cell_type": "code",
   "execution_count": null,
   "metadata": {},
   "outputs": [],
   "source": []
  },
  {
   "cell_type": "code",
   "execution_count": null,
   "metadata": {},
   "outputs": [],
   "source": []
  }
 ],
 "metadata": {
  "kernelspec": {
   "display_name": "Python 3",
   "language": "python",
   "name": "python3"
  },
  "language_info": {
   "codemirror_mode": {
    "name": "ipython",
    "version": 3
   },
   "file_extension": ".py",
   "mimetype": "text/x-python",
   "name": "python",
   "nbconvert_exporter": "python",
   "pygments_lexer": "ipython3",
   "version": "3.7.4"
  }
 },
 "nbformat": 4,
 "nbformat_minor": 2
}
