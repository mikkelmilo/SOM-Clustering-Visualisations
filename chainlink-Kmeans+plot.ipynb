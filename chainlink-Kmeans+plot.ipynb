{
 "cells": [
  {
   "cell_type": "code",
   "execution_count": 61,
   "metadata": {
    "scrolled": true
   },
   "outputs": [],
   "source": [
    "\n",
    "import numpy as np\n",
    "import pickle\n",
    "import matplotlib.pyplot as plt\n",
    "from minisom import MiniSom  \n",
    "from sklearn.cluster import KMeans\n",
    "from scipy import cluster\n",
    "from matplotlib.gridspec import GridSpec\n",
    "\n"
   ]
  },
  {
   "cell_type": "code",
   "execution_count": 62,
   "metadata": {
    "scrolled": false
   },
   "outputs": [
    {
     "name": "stdout",
     "output_type": "stream",
     "text": [
      "SOM Assignment - chainlink data set\n"
     ]
    }
   ],
   "source": [
    "print(\"SOM Assignment - chainlink data set\")"
   ]
  },
  {
   "cell_type": "code",
   "execution_count": 63,
   "metadata": {
    "scrolled": true
   },
   "outputs": [],
   "source": [
    "chainlink = np.genfromtxt('chainlink.vec', skip_header=4, usecols=list(range(3)))"
   ]
  },
  {
   "cell_type": "code",
   "execution_count": 64,
   "metadata": {},
   "outputs": [],
   "source": [
    "chainlink_som_small = MiniSom(20, 25, 3, sigma=10, learning_rate=0.5,random_seed=10)\n",
    "chainlink_som_small.train_random(chainlink, 10000)\n",
    "chainlink_som_big = MiniSom(100, 60, 3, sigma=20, learning_rate=0.5,random_seed=10)\n",
    "chainlink_som_big.train_random(chainlink, 10000)"
   ]
  },
  {
   "cell_type": "code",
   "execution_count": 65,
   "metadata": {},
   "outputs": [],
   "source": [
    "# EVALUATION "
   ]
  },
  {
   "cell_type": "code",
   "execution_count": 66,
   "metadata": {},
   "outputs": [
    {
     "name": "stdout",
     "output_type": "stream",
     "text": [
      "Ev Small SOM\n",
      "0.07262317695959422\n",
      "0.003\n",
      "Mean of Quantization error:\n",
      "0.09077897119949277\n",
      "Ev Big SOM\n",
      "0.012874399538960055\n",
      "0.003\n",
      "Mean of Quantization error:\n",
      "0.007724639723376034\n"
     ]
    }
   ],
   "source": [
    "print(\"Ev Small SOM\")\n",
    "print(chainlink_som_small.quantization_error(chainlink))\n",
    "print(chainlink_som_small.topographic_error(chainlink))\n",
    "print(\"Mean of Quantization error:\")\n",
    "print(chainlink_som_small.quantization_error(chainlink)/20*25)\n",
    "\n",
    "\n",
    "print(\"Ev Big SOM\")\n",
    "print(chainlink_som_big.quantization_error(chainlink))\n",
    "print(chainlink_som_big.topographic_error(chainlink))\n",
    "\n",
    "print(\"Mean of Quantization error:\")\n",
    "print(chainlink_som_big.quantization_error(chainlink)/100*60)\n",
    "\n",
    "\n",
    "\n",
    "\n"
   ]
  },
  {
   "cell_type": "code",
   "execution_count": 67,
   "metadata": {},
   "outputs": [],
   "source": [
    "\n",
    "\n",
    "def hierarchy(weights):\n",
    "    Z = cluster.hierarchy.linkage(weights,'single')\n",
    "    d=cluster.hierarchy.dendrogram(Z,truncate_mode='level')\n",
    "    #Y=cluster.hierarchy.single(weights)\n",
    "    plt.show()\n",
    "    print(Z)\n",
    "\n",
    "    cutree = cluster.hierarchy.cut_tree(Z, n_clusters=[2,10])\n",
    "    labels=cutree[:,1]\n",
    "    #print(\"Labeling\",labels)\n",
    "\n",
    "    #print(cutree)\n",
    "    return labels\n",
    "\n",
    "\n",
    "\n"
   ]
  },
  {
   "cell_type": "code",
   "execution_count": 68,
   "metadata": {},
   "outputs": [],
   "source": [
    "def winners_labels(som,weights,labels,d1,d2):\n",
    "    winners_labels = np.zeros(shape=(d1,d2))\n",
    "    for cnt, xx in enumerate (weights):\n",
    "        w = som.winner(xx)\n",
    "        l = labels[cnt]\n",
    "        winners_labels[w[0],w[1]] = l\n",
    "    return winners_labels\n",
    "\n",
    "def dif_matrix(label_matrix):\n",
    "    dif_mat = np.zeros(shape=label_matrix.shape)\n",
    "    for i,row in enumerate(label_matrix):\n",
    "        for j,label in enumerate(row):\n",
    "            if i < label_matrix.shape[0]-1 and label_matrix[i][j] != label_matrix[i+1][j]:\n",
    "                dif_mat[i][j] = 1\n",
    "            elif j < label_matrix.shape[1]-1 and label_matrix[i][j] != label_matrix[i][j+1]:\n",
    "                dif_mat[i][j] = 1\n",
    "    return dif_mat\n",
    "\n",
    "#dif_matrix(winners_labels(chainlink_som_small,weights,labels,d1,d2))\n",
    "\n",
    "#print(np.unique(dif_matrix(winners_labels(chainlink_som_small,weights,labels,d1,d2))))"
   ]
  },
  {
   "cell_type": "code",
   "execution_count": 69,
   "metadata": {
    "scrolled": false
   },
   "outputs": [],
   "source": [
    "\n",
    "def plot_with_labelling(som, d1, d2, labels, coloring_labels, rweights, debug=False):\n",
    "\n",
    "    plt.figure(figsize=(d1//2, d2//2))\n",
    "    # Plotting the response for each pattern in the iris dataset\n",
    "    #win_map = som.win_map(rweights)\n",
    "    #plt.pcolor(som.distance_map().T, cmap='bone_r')  # plotting the distance map as background\n",
    "    #plt.colorbar()\n",
    "    # use different colors and markers for each label\n",
    "    #markers = ['o', 's', 'D']\n",
    "    colors = ['C' + str(i) for i in np.unique(coloring_labels)]\n",
    "    win_labels = winners_labels(som,rweights,labels,d1,d2)\n",
    "\n",
    "    for cnt, xx in enumerate(rweights):\n",
    "        w = som.winner(xx)  # getting the winner\n",
    "        #w = xx\n",
    "        # palce a marker on the winning position for the sample xx\n",
    "        plt.plot(w[0]+.5, w[1]+.5, 's', markerfacecolor=colors[coloring_labels[cnt]],\n",
    "                markeredgecolor=colors[coloring_labels[cnt]], markersize=20, markeredgewidth=2)\n",
    "    def plot_borders(debug=False):\n",
    "        border_color = lambda c : c if debug else 'black'\n",
    "        for i,row in enumerate(win_labels):\n",
    "            for j,v in enumerate(row):\n",
    "                if j < win_labels.shape[1]-1 and v != row[j+1]:\n",
    "                    plt.plot([i,i+1],[j+1,j+1], color=border_color('red'))\n",
    "                if i < win_labels.shape[0]-1 and v != win_labels[i+1][j]:\n",
    "                    plt.plot([i+1,i+1],[j,j+1], color=border_color('blue'))    \n",
    "    plot_borders(debug)\n",
    "    plt.axis([0, d1, 0, d2])\n",
    "    plt.show()\n",
    "\n"
   ]
  },
  {
   "cell_type": "code",
   "execution_count": 70,
   "metadata": {},
   "outputs": [],
   "source": [
    "\n",
    "\n",
    "def hierarchical_clust(som,d1,d2,n_clusters,ltype):\n",
    "    weights = som.get_weights().reshape(d1*d2,-1)\n",
    "    Z= cluster.hierarchy.linkage(weights,ltype)\n",
    "    \n",
    "    labels = cluster.hierarchy.cut_tree(Z, n_clusters=n_clusters)\n",
    "   \n",
    "    labels = [l[0] for l in labels]\n",
    "    \n",
    "    if type(n_clusters)==int:\n",
    "        labels = [l[0] for l in labels]\n",
    "        plot_with_labelling(som,d1,d2,labels,labels,weights,debug=False)\n",
    "    else: \n",
    "        coloring_labels = labels.T[0]\n",
    "        labels = labels.T[1]\n",
    "        plot_with_labelling(som,d1,d2,coloring_labels,labels,weights,debug=False)\n",
    "\n",
    "   \n",
    "    plot_with_labelling(som,d1,d2,labels,labels,weights,debug=False)\n",
    "\n"
   ]
  },
  {
   "cell_type": "code",
   "execution_count": 71,
   "metadata": {},
   "outputs": [
    {
     "ename": "IndexError",
     "evalue": "invalid index to scalar variable.",
     "output_type": "error",
     "traceback": [
      "\u001b[1;31m---------------------------------------------------------------------------\u001b[0m",
      "\u001b[1;31mIndexError\u001b[0m                                Traceback (most recent call last)",
      "\u001b[1;32m<ipython-input-71-e6e16a1d4cd3>\u001b[0m in \u001b[0;36m<module>\u001b[1;34m\u001b[0m\n\u001b[0;32m      1\u001b[0m \u001b[1;31m#HIERARCHICAL CLUSTERING\u001b[0m\u001b[1;33m\u001b[0m\u001b[1;33m\u001b[0m\u001b[1;33m\u001b[0m\u001b[0m\n\u001b[0;32m      2\u001b[0m \u001b[1;33m\u001b[0m\u001b[0m\n\u001b[1;32m----> 3\u001b[1;33m \u001b[0mhierarchical_clust\u001b[0m\u001b[1;33m(\u001b[0m\u001b[0mchainlink_som_small\u001b[0m\u001b[1;33m,\u001b[0m\u001b[1;36m20\u001b[0m\u001b[1;33m,\u001b[0m\u001b[1;36m25\u001b[0m\u001b[1;33m,\u001b[0m\u001b[1;36m2\u001b[0m\u001b[1;33m,\u001b[0m\u001b[1;34m'single'\u001b[0m\u001b[1;33m)\u001b[0m\u001b[1;33m\u001b[0m\u001b[1;33m\u001b[0m\u001b[0m\n\u001b[0m",
      "\u001b[1;32m<ipython-input-70-b185661016f8>\u001b[0m in \u001b[0;36mhierarchical_clust\u001b[1;34m(som, d1, d2, n_clusters, ltype)\u001b[0m\n\u001b[0;32m      8\u001b[0m \u001b[1;33m\u001b[0m\u001b[0m\n\u001b[0;32m      9\u001b[0m     \u001b[1;32mif\u001b[0m \u001b[0mtype\u001b[0m\u001b[1;33m(\u001b[0m\u001b[0mn_clusters\u001b[0m\u001b[1;33m)\u001b[0m\u001b[1;33m==\u001b[0m\u001b[0mint\u001b[0m\u001b[1;33m:\u001b[0m\u001b[1;33m\u001b[0m\u001b[1;33m\u001b[0m\u001b[0m\n\u001b[1;32m---> 10\u001b[1;33m         \u001b[0mlabels\u001b[0m \u001b[1;33m=\u001b[0m \u001b[1;33m[\u001b[0m\u001b[0ml\u001b[0m\u001b[1;33m[\u001b[0m\u001b[1;36m0\u001b[0m\u001b[1;33m]\u001b[0m \u001b[1;32mfor\u001b[0m \u001b[0ml\u001b[0m \u001b[1;32min\u001b[0m \u001b[0mlabels\u001b[0m\u001b[1;33m]\u001b[0m\u001b[1;33m\u001b[0m\u001b[1;33m\u001b[0m\u001b[0m\n\u001b[0m\u001b[0;32m     11\u001b[0m         \u001b[0mplot_with_labelling\u001b[0m\u001b[1;33m(\u001b[0m\u001b[0msom\u001b[0m\u001b[1;33m,\u001b[0m\u001b[0md1\u001b[0m\u001b[1;33m,\u001b[0m\u001b[0md2\u001b[0m\u001b[1;33m,\u001b[0m\u001b[0mlabels\u001b[0m\u001b[1;33m,\u001b[0m\u001b[0mlabels\u001b[0m\u001b[1;33m,\u001b[0m\u001b[0mweights\u001b[0m\u001b[1;33m,\u001b[0m\u001b[0mdebug\u001b[0m\u001b[1;33m=\u001b[0m\u001b[1;32mFalse\u001b[0m\u001b[1;33m)\u001b[0m\u001b[1;33m\u001b[0m\u001b[1;33m\u001b[0m\u001b[0m\n\u001b[0;32m     12\u001b[0m     \u001b[1;32melse\u001b[0m\u001b[1;33m:\u001b[0m\u001b[1;33m\u001b[0m\u001b[1;33m\u001b[0m\u001b[0m\n",
      "\u001b[1;32m<ipython-input-70-b185661016f8>\u001b[0m in \u001b[0;36m<listcomp>\u001b[1;34m(.0)\u001b[0m\n\u001b[0;32m      8\u001b[0m \u001b[1;33m\u001b[0m\u001b[0m\n\u001b[0;32m      9\u001b[0m     \u001b[1;32mif\u001b[0m \u001b[0mtype\u001b[0m\u001b[1;33m(\u001b[0m\u001b[0mn_clusters\u001b[0m\u001b[1;33m)\u001b[0m\u001b[1;33m==\u001b[0m\u001b[0mint\u001b[0m\u001b[1;33m:\u001b[0m\u001b[1;33m\u001b[0m\u001b[1;33m\u001b[0m\u001b[0m\n\u001b[1;32m---> 10\u001b[1;33m         \u001b[0mlabels\u001b[0m \u001b[1;33m=\u001b[0m \u001b[1;33m[\u001b[0m\u001b[0ml\u001b[0m\u001b[1;33m[\u001b[0m\u001b[1;36m0\u001b[0m\u001b[1;33m]\u001b[0m \u001b[1;32mfor\u001b[0m \u001b[0ml\u001b[0m \u001b[1;32min\u001b[0m \u001b[0mlabels\u001b[0m\u001b[1;33m]\u001b[0m\u001b[1;33m\u001b[0m\u001b[1;33m\u001b[0m\u001b[0m\n\u001b[0m\u001b[0;32m     11\u001b[0m         \u001b[0mplot_with_labelling\u001b[0m\u001b[1;33m(\u001b[0m\u001b[0msom\u001b[0m\u001b[1;33m,\u001b[0m\u001b[0md1\u001b[0m\u001b[1;33m,\u001b[0m\u001b[0md2\u001b[0m\u001b[1;33m,\u001b[0m\u001b[0mlabels\u001b[0m\u001b[1;33m,\u001b[0m\u001b[0mlabels\u001b[0m\u001b[1;33m,\u001b[0m\u001b[0mweights\u001b[0m\u001b[1;33m,\u001b[0m\u001b[0mdebug\u001b[0m\u001b[1;33m=\u001b[0m\u001b[1;32mFalse\u001b[0m\u001b[1;33m)\u001b[0m\u001b[1;33m\u001b[0m\u001b[1;33m\u001b[0m\u001b[0m\n\u001b[0;32m     12\u001b[0m     \u001b[1;32melse\u001b[0m\u001b[1;33m:\u001b[0m\u001b[1;33m\u001b[0m\u001b[1;33m\u001b[0m\u001b[0m\n",
      "\u001b[1;31mIndexError\u001b[0m: invalid index to scalar variable."
     ]
    }
   ],
   "source": [
    "#HIERARCHICAL CLUSTERING\n",
    "\n",
    "hierarchical_clust(chainlink_som_small,20,25,2,'single')"
   ]
  },
  {
   "cell_type": "code",
   "execution_count": null,
   "metadata": {},
   "outputs": [],
   "source": [
    "# EXTREME VALUES\n",
    "hierarchical_clust(chainlink_som_small,20,25,5,'single')\n",
    "hierarchical_clust(chainlink_som_small,20,25,10,'single')"
   ]
  },
  {
   "cell_type": "code",
   "execution_count": null,
   "metadata": {},
   "outputs": [],
   "source": [
    "# K-Means clustering"
   ]
  },
  {
   "cell_type": "code",
   "execution_count": null,
   "metadata": {},
   "outputs": [],
   "source": [
    "\n",
    "def kmeans_clust(som,d1,d2,n_clusters,random_state):\n",
    "    weights = som.get_weights().reshape(d1*d2,-1) # first argument is product of first two dimensions of the input dataset\n",
    "    labels = KMeans(n_clusters=n_clusters,random_state=random_state)\n",
    "    km = labels.fit(weights)\n",
    "    labels = km.labels_\n",
    "    plot_with_labelling(som,d1,d2,labels,labels,weights,debug=False)\n",
    "    \n",
    "\n",
    "\n"
   ]
  },
  {
   "cell_type": "code",
   "execution_count": null,
   "metadata": {},
   "outputs": [],
   "source": [
    "kmeans_clust(chainlink_som_small,20,25,10,0)"
   ]
  },
  {
   "cell_type": "code",
   "execution_count": null,
   "metadata": {},
   "outputs": [],
   "source": [
    "#EXTREME VALUES\n",
    "\n",
    "kmeans_clust(chainlink_som_small,20,25,20,10)\n",
    "\n"
   ]
  },
  {
   "cell_type": "code",
   "execution_count": null,
   "metadata": {},
   "outputs": [],
   "source": [
    "#Hierarchical 100X60"
   ]
  },
  {
   "cell_type": "code",
   "execution_count": null,
   "metadata": {},
   "outputs": [],
   "source": [
    "hierarchical_clust(chainlink_som_big,100,60,10,'ward')"
   ]
  },
  {
   "cell_type": "code",
   "execution_count": null,
   "metadata": {},
   "outputs": [],
   "source": [
    "# EXTREME VALUES\n",
    "\n",
    "hierarchical_clust(chainlink_som_big,100,60,20,'ward')"
   ]
  },
  {
   "cell_type": "code",
   "execution_count": null,
   "metadata": {},
   "outputs": [],
   "source": [
    "#Kmeans"
   ]
  },
  {
   "cell_type": "code",
   "execution_count": null,
   "metadata": {},
   "outputs": [],
   "source": [
    "\n",
    "kmeans_clust(chainlink_som_big,100,60,10,0)"
   ]
  },
  {
   "cell_type": "code",
   "execution_count": null,
   "metadata": {},
   "outputs": [],
   "source": [
    "#EXTREME VALUES\n"
   ]
  },
  {
   "cell_type": "code",
   "execution_count": null,
   "metadata": {},
   "outputs": [],
   "source": [
    "\n",
    "kmeans_clust(chainlink_som_big,100,60,20,10)"
   ]
  },
  {
   "cell_type": "code",
   "execution_count": null,
   "metadata": {},
   "outputs": [],
   "source": []
  }
 ],
 "metadata": {
  "kernelspec": {
   "display_name": "Python 3",
   "language": "python",
   "name": "python3"
  },
  "language_info": {
   "codemirror_mode": {
    "name": "ipython",
    "version": 3
   },
   "file_extension": ".py",
   "mimetype": "text/x-python",
   "name": "python",
   "nbconvert_exporter": "python",
   "pygments_lexer": "ipython3",
   "version": "3.7.4"
  }
 },
 "nbformat": 4,
 "nbformat_minor": 2
}
